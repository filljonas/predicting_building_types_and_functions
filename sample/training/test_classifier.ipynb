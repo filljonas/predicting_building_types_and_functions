{
 "cells": [
  {
   "cell_type": "markdown",
   "metadata": {},
   "source": [
    "# Test Classifier"
   ]
  },
  {
   "cell_type": "code",
   "execution_count": 1,
   "metadata": {
    "collapsed": false,
    "jupyter": {
     "outputs_hidden": false
    }
   },
   "outputs": [],
   "source": [
    "model_type = 'transformer'"
   ]
  },
  {
   "cell_type": "code",
   "execution_count": 2,
   "metadata": {
    "collapsed": false,
    "jupyter": {
     "outputs_hidden": false
    }
   },
   "outputs": [],
   "source": [
    "import sys\n",
    "sys.path.append('../../')"
   ]
  },
  {
   "cell_type": "code",
   "execution_count": 3,
   "metadata": {
    "collapsed": false,
    "jupyter": {
     "outputs_hidden": false
    }
   },
   "outputs": [
    {
     "name": "stdout",
     "output_type": "stream",
     "text": [
      "C:\\Users\\fillj\\Documents\\PyCharm Projects\\predicting_building_types_functions\n"
     ]
    }
   ],
   "source": [
    "%cd ../../"
   ]
  },
  {
   "cell_type": "code",
   "execution_count": 4,
   "metadata": {
    "collapsed": false,
    "jupyter": {
     "outputs_hidden": false
    }
   },
   "outputs": [],
   "source": [
    "import torch\n",
    "import json\n",
    "import torch.nn as nn\n",
    "import torch_geometric\n",
    "\n",
    "import sample.dataset.gnn_dataset_modeling as dsm\n",
    "import sample.training.fetch_model as fm\n",
    "import sample.training.eval as ev\n",
    "import torch_geometric.loader as loader\n",
    "import sample.training.split_dataset as sd\n",
    "import sample.training.aux_fcnn as ax\n",
    "import sample.util.feature_names as fn"
   ]
  },
  {
   "cell_type": "code",
   "execution_count": 5,
   "metadata": {
    "collapsed": false,
    "jupyter": {
     "outputs_hidden": false
    }
   },
   "outputs": [],
   "source": [
    "model_name = f'final_{model_type}'"
   ]
  },
  {
   "cell_type": "code",
   "execution_count": 6,
   "metadata": {
    "collapsed": false,
    "jupyter": {
     "outputs_hidden": false
    }
   },
   "outputs": [],
   "source": [
    "with open(f'sample/training/config/{model_type}.json', 'r') as json_file:\n",
    "    config_dict = json.load(json_file)"
   ]
  },
  {
   "cell_type": "code",
   "execution_count": 7,
   "metadata": {},
   "outputs": [],
   "source": [
    "class Config:\n",
    "    def __init__(self, **kwargs):\n",
    "        for key, value in kwargs.items():\n",
    "            setattr(self, key, value)\n",
    "config = Config(**config_dict)"
   ]
  },
  {
   "cell_type": "code",
   "execution_count": 8,
   "metadata": {
    "collapsed": false,
    "jupyter": {
     "outputs_hidden": false
    }
   },
   "outputs": [
    {
     "name": "stdout",
     "output_type": "stream",
     "text": [
      "Accuracy score (all): 0.6988352745424293\n",
      "Cohen's Kappa Coefficient (all): 0.5836373031213518\n",
      "Matthew's Correlation Coefficient (all): 0.5899503153222679\n",
      "Macro F1-score (all): 0.4039375665780174\n",
      "Precision score (apartments): 0.8538461538461538\n",
      "Recall score (apartments): 0.7816901408450704\n",
      "F1-score (apartments): 0.8161764705882353\n",
      "Precision score (detached): 0.45038167938931295\n",
      "Recall score (detached): 0.855072463768116\n",
      "F1-score (detached): 0.59\n",
      "Precision score (semidetached): 0.0\n",
      "Recall score (semidetached): 0.0\n",
      "F1-score (semidetached): 0.0\n",
      "Precision score (terrace): 0.6216216216216216\n",
      "Recall score (terrace): 0.6216216216216216\n",
      "F1-score (terrace): 0.6216216216216216\n",
      "Precision score (industrial): 0.0\n",
      "Recall score (industrial): 0.0\n",
      "F1-score (industrial): 0.0\n",
      "Precision score (commercial): 0.375\n",
      "Recall score (commercial): 0.5294117647058824\n",
      "F1-score (commercial): 0.4390243902439025\n",
      "Precision score (public): 0.3333333333333333\n",
      "Recall score (public): 0.4\n",
      "F1-score (public): 0.3636363636363636\n",
      "Precision score (agricultural): 0.0\n",
      "Recall score (agricultural): 0.0\n",
      "F1-score (agricultural): 0.0\n",
      "Precision score (other): 0.8220338983050848\n",
      "Recall score (other): 0.7886178861788617\n",
      "F1-score (other): 0.8049792531120332\n",
      "Accuracy score (res/nonres): 0.8818635607321131\n",
      "Cohen's Kappa Coefficient (res/nonres): 0.7162511720074742\n",
      "Matthew's Correlation Coefficient (res/nonres): 0.7167149321940707\n",
      "Macro F1-score (res/nonres): 0.8580873671782763\n",
      "Precision score (res): 0.9065420560747663\n",
      "Recall score (res): 0.9260143198090692\n",
      "F1-score (res): 0.9161747343565526\n",
      "Precision score (nonres): 0.8208092485549133\n",
      "Recall score (nonres): 0.7802197802197802\n",
      "F1-score (nonres): 0.8\n",
      "Accuracy score (res. typology): 0.7420965058236273\n",
      "Cohen's Kappa Coefficient (res. typology): 0.6204988857972762\n",
      "Matthew's Correlation Coefficient (res. typology): 0.6273542835155528\n",
      "Macro F1-score (res. typology): 0.5655596184419714\n"
     ]
    },
    {
     "name": "stderr",
     "output_type": "stream",
     "text": [
      "C:\\Users\\fillj\\anaconda3\\envs\\geo_env\\Lib\\site-packages\\sklearn\\metrics\\_classification.py:1471: UndefinedMetricWarning: Precision is ill-defined and being set to 0.0 in labels with no predicted samples. Use `zero_division` parameter to control this behavior.\n",
      "  _warn_prf(average, modifier, msg_start, len(result))\n",
      "C:\\Users\\fillj\\anaconda3\\envs\\geo_env\\Lib\\site-packages\\sklearn\\metrics\\_classification.py:1471: UndefinedMetricWarning: Precision is ill-defined and being set to 0.0 in labels with no predicted samples. Use `zero_division` parameter to control this behavior.\n",
      "  _warn_prf(average, modifier, msg_start, len(result))\n"
     ]
    }
   ],
   "source": [
    "torch_geometric.seed_everything(42)\n",
    "path = f'./sample/dataset/pyg_ds'\n",
    "dataset = dsm.GNNDatasetModeling(path, '')\n",
    "dataset_train, dataset_val, dataset_test = sd.split_train_val_test(dataset)\n",
    "dataset_train, dataset_val, dataset_test = sd.mark_overlapping_labels(dataset_train, dataset_val, dataset_test)\n",
    "# For non-GNN-based models, flatten graph\n",
    "if model_type in ['dt', 'rf', 'fcnn']:\n",
    "    _, _, _, _, x_test, y_test = ax.preprocessing(dataset_train, dataset_val, dataset_test)\n",
    "# Load data\n",
    "if model_type in ['dt', 'rf']:\n",
    "    dataloader_test = x_test, y_test\n",
    "elif model_type == 'fcnn':\n",
    "    dataloader_test = ax.load_data(x_test, y_test, batch_size=64, shuffle=False)\n",
    "else:\n",
    "    dataloader_val = loader.DataLoader(dataset_val, 64, shuffle=False)\n",
    "    dataloader_test = loader.DataLoader(dataset_test, 64, shuffle=False)\n",
    "# Determine device. Train on GPU if available (only used for NN models)\n",
    "device = (\n",
    "        'cuda'\n",
    "        if torch.cuda.is_available()\n",
    "        else 'mps'\n",
    "        if torch.backends.mps.is_available()\n",
    "        else 'cpu'\n",
    ")\n",
    "# Set loss function (only used for NN models)\n",
    "loss_fn = nn.NLLLoss()\n",
    "model = fm.fetch_model(config, model_name, model_type, device)\n",
    "y_predict, _ = ev.evaluate(dataloader_test, model, device, loss_fn, True, None, model_type)"
   ]
  },
  {
   "cell_type": "code",
   "execution_count": null,
   "metadata": {},
   "outputs": [],
   "source": []
  }
 ],
 "metadata": {
  "kernelspec": {
   "display_name": "Python 3 (ipykernel)",
   "language": "python",
   "name": "python3"
  },
  "language_info": {
   "codemirror_mode": {
    "name": "ipython",
    "version": 3
   },
   "file_extension": ".py",
   "mimetype": "text/x-python",
   "name": "python",
   "nbconvert_exporter": "python",
   "pygments_lexer": "ipython3",
   "version": "3.12.0"
  }
 },
 "nbformat": 4,
 "nbformat_minor": 4
}
