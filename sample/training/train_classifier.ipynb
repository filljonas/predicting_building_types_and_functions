{
 "cells": [
  {
   "cell_type": "markdown",
   "metadata": {},
   "source": [
    "# Train Classifier"
   ]
  },
  {
   "cell_type": "code",
   "execution_count": 1,
   "metadata": {
    "collapsed": false,
    "jupyter": {
     "outputs_hidden": false
    }
   },
   "outputs": [],
   "source": [
    "model_type = 'transformer'"
   ]
  },
  {
   "cell_type": "code",
   "execution_count": 2,
   "metadata": {
    "collapsed": false,
    "jupyter": {
     "outputs_hidden": false
    }
   },
   "outputs": [],
   "source": [
    "import sys\n",
    "sys.path.append('../../')"
   ]
  },
  {
   "cell_type": "code",
   "execution_count": 3,
   "metadata": {},
   "outputs": [
    {
     "name": "stdout",
     "output_type": "stream",
     "text": [
      "C:\\Users\\fillj\\Documents\\PyCharm Projects\\predicting_building_types_functions\n"
     ]
    }
   ],
   "source": [
    "%cd ../../"
   ]
  },
  {
   "cell_type": "code",
   "execution_count": 4,
   "metadata": {
    "ExecuteTime": {
     "end_time": "2024-03-17T08:26:43.156964100Z",
     "start_time": "2024-03-17T08:26:42.319136800Z"
    },
    "collapsed": false,
    "jupyter": {
     "outputs_hidden": false
    }
   },
   "outputs": [],
   "source": [
    "import random\n",
    "import json\n",
    "import torch_geometric\n",
    "\n",
    "import sample.dataset.gnn_dataset_modeling as dsm\n",
    "import sample.training.split_dataset as sd\n",
    "import sample.training.train_and_eval_tree as tetree\n",
    "import sample.training.train_and_eval_fcnn as tefcnn\n",
    "import sample.training.train_and_eval_gnn as tegnn\n",
    "import sample.training.aux_fcnn as ax"
   ]
  },
  {
   "cell_type": "code",
   "execution_count": 5,
   "metadata": {
    "ExecuteTime": {
     "end_time": "2024-03-17T08:26:53.392154100Z",
     "start_time": "2024-03-17T08:26:53.361728100Z"
    },
    "collapsed": false,
    "jupyter": {
     "outputs_hidden": false
    }
   },
   "outputs": [],
   "source": [
    "model_name = f'final_{model_type}'\n",
    "model_description = ''"
   ]
  },
  {
   "cell_type": "code",
   "execution_count": 6,
   "metadata": {
    "ExecuteTime": {
     "end_time": "2024-05-11T12:38:11.531211100Z",
     "start_time": "2024-05-11T12:38:11.511448Z"
    },
    "collapsed": false,
    "jupyter": {
     "outputs_hidden": false
    }
   },
   "outputs": [],
   "source": [
    "with open(f'sample/training/config/{model_type}.json', 'r') as json_file:\n",
    "    config_dict = json.load(json_file)"
   ]
  },
  {
   "cell_type": "code",
   "execution_count": 7,
   "metadata": {},
   "outputs": [],
   "source": [
    "class Config:\n",
    "    def __init__(self, **kwargs):\n",
    "        for key, value in kwargs.items():\n",
    "            setattr(self, key, value)\n",
    "config = Config(**config_dict)"
   ]
  },
  {
   "cell_type": "code",
   "execution_count": 8,
   "metadata": {
    "collapsed": false,
    "jupyter": {
     "outputs_hidden": false
    }
   },
   "outputs": [
    {
     "name": "stderr",
     "output_type": "stream",
     "text": [
      "Epoch [1/200]: 100%|███████████████████████████████████████████████████████████████████████████████████████████████████████████████████████████████████████████████████████| 2/2 [00:00<00:00, 11.51it/s, acc=0.262, loss=1.96]\n"
     ]
    },
    {
     "name": "stdout",
     "output_type": "stream",
     "text": [
      "Training metrics: Avg loss: 2.035882, Accuracy score: 0.18336886993603413\n",
      "Validation Metrics: Avg loss: 1.936882, Accuracy score: 0.3817504655493482, Macro F1 Score: 0.1317691730589622 \n",
      "\n"
     ]
    },
    {
     "name": "stderr",
     "output_type": "stream",
     "text": [
      "Epoch [2/200]: 100%|███████████████████████████████████████████████████████████████████████████████████████████████████████████████████████████████████████████████████████| 2/2 [00:00<00:00, 11.29it/s, acc=0.347, loss=1.92]\n"
     ]
    },
    {
     "name": "stdout",
     "output_type": "stream",
     "text": [
      "Training metrics: Avg loss: 1.945419, Accuracy score: 0.2947168917318171\n",
      "Validation Metrics: Avg loss: 1.831442, Accuracy score: 0.41154562383612664, Macro F1 Score: 0.1249106200074446 \n",
      "\n"
     ]
    },
    {
     "name": "stderr",
     "output_type": "stream",
     "text": [
      "Epoch [3/200]: 100%|███████████████████████████████████████████████████████████████████████████████████████████████████████████████████████████████████████████████████████| 2/2 [00:00<00:00, 12.01it/s, acc=0.361, loss=1.88]\n"
     ]
    },
    {
     "name": "stdout",
     "output_type": "stream",
     "text": [
      "Training metrics: Avg loss: 1.872623, Accuracy score: 0.3556029376924899\n",
      "Validation Metrics: Avg loss: 1.750738, Accuracy score: 0.42830540037243947, Macro F1 Score: 0.13139497044304016 \n",
      "\n"
     ]
    },
    {
     "name": "stderr",
     "output_type": "stream",
     "text": [
      "Epoch [4/200]: 100%|███████████████████████████████████████████████████████████████████████████████████████████████████████████████████████████████████████████████████████| 2/2 [00:00<00:00, 11.84it/s, acc=0.364, loss=1.84]\n"
     ]
    },
    {
     "name": "stdout",
     "output_type": "stream",
     "text": [
      "Training metrics: Avg loss: 1.812103, Accuracy score: 0.3859275053304904\n",
      "Validation Metrics: Avg loss: 1.689441, Accuracy score: 0.43947858472998136, Macro F1 Score: 0.1362330704173858 \n",
      "\n"
     ]
    },
    {
     "name": "stderr",
     "output_type": "stream",
     "text": [
      "Epoch [5/200]: 100%|███████████████████████████████████████████████████████████████████████████████████████████████████████████████████████████████████████████████████████| 2/2 [00:00<00:00, 12.11it/s, acc=0.433, loss=1.68]\n"
     ]
    },
    {
     "name": "stdout",
     "output_type": "stream",
     "text": [
      "Training metrics: Avg loss: 1.705907, Accuracy score: 0.42809760720208484\n",
      "Validation Metrics: Avg loss: 1.643299, Accuracy score: 0.4618249534450652, Macro F1 Score: 0.1448519995888417 \n",
      "\n"
     ]
    },
    {
     "name": "stderr",
     "output_type": "stream",
     "text": [
      "Epoch [6/200]: 100%|███████████████████████████████████████████████████████████████████████████████████████████████████████████████████████████████████████████████████████| 2/2 [00:00<00:00, 11.59it/s, acc=0.377, loss=1.81]\n"
     ]
    },
    {
     "name": "stdout",
     "output_type": "stream",
     "text": [
      "Training metrics: Avg loss: 1.741568, Accuracy score: 0.43852167732764746\n",
      "Validation Metrics: Avg loss: 1.609584, Accuracy score: 0.4823091247672253, Macro F1 Score: 0.15192345983779204 \n",
      "\n"
     ]
    },
    {
     "name": "stderr",
     "output_type": "stream",
     "text": [
      "Epoch [7/200]: 100%|█████████████████████████████████████████████████████████████████████████████████████████████████████████████████████████████████████████████████████████| 2/2 [00:00<00:00, 11.92it/s, acc=0.4, loss=1.72]\n"
     ]
    },
    {
     "name": "stdout",
     "output_type": "stream",
     "text": [
      "Training metrics: Avg loss: 1.678252, Accuracy score: 0.4690831556503198\n",
      "Validation Metrics: Avg loss: 1.583715, Accuracy score: 0.5083798882681564, Macro F1 Score: 0.16081419772176692 \n",
      "\n"
     ]
    },
    {
     "name": "stderr",
     "output_type": "stream",
     "text": [
      "Epoch [8/200]: 100%|███████████████████████████████████████████████████████████████████████████████████████████████████████████████████████████████████████████████████████| 2/2 [00:00<00:00, 11.85it/s, acc=0.528, loss=1.55]\n"
     ]
    },
    {
     "name": "stdout",
     "output_type": "stream",
     "text": [
      "Training metrics: Avg loss: 1.588517, Accuracy score: 0.4709784411276949\n",
      "Validation Metrics: Avg loss: 1.563158, Accuracy score: 0.5307262569832403, Macro F1 Score: 0.16848106578783734 \n",
      "\n"
     ]
    },
    {
     "name": "stderr",
     "output_type": "stream",
     "text": [
      "Epoch [9/200]: 100%|███████████████████████████████████████████████████████████████████████████████████████████████████████████████████████████████████████████████████████| 2/2 [00:00<00:00, 11.90it/s, acc=0.455, loss=1.59]\n"
     ]
    },
    {
     "name": "stdout",
     "output_type": "stream",
     "text": [
      "Training metrics: Avg loss: 1.598532, Accuracy score: 0.48756218905472637\n",
      "Validation Metrics: Avg loss: 1.546869, Accuracy score: 0.5325884543761639, Macro F1 Score: 0.1696389763287089 \n",
      "\n"
     ]
    },
    {
     "name": "stderr",
     "output_type": "stream",
     "text": [
      "Epoch [10/200]: 100%|██████████████████████████████████████████████████████████████████████████████████████████████████████████████████████████████████████████████████████| 2/2 [00:00<00:00, 11.63it/s, acc=0.486, loss=1.56]\n"
     ]
    },
    {
     "name": "stdout",
     "output_type": "stream",
     "text": [
      "Training metrics: Avg loss: 1.565008, Accuracy score: 0.5107794361525705\n",
      "Validation Metrics: Avg loss: 1.532365, Accuracy score: 0.5176908752327747, Macro F1 Score: 0.16554066144583385 \n",
      "\n"
     ]
    },
    {
     "name": "stderr",
     "output_type": "stream",
     "text": [
      "Epoch [11/200]: 100%|██████████████████████████████████████████████████████████████████████████████████████████████████████████████████████████████████████████████████████| 2/2 [00:00<00:00, 12.10it/s, acc=0.492, loss=1.58]\n"
     ]
    },
    {
     "name": "stdout",
     "output_type": "stream",
     "text": [
      "Training metrics: Avg loss: 1.565447, Accuracy score: 0.5069888651978204\n",
      "Validation Metrics: Avg loss: 1.518807, Accuracy score: 0.5251396648044693, Macro F1 Score: 0.17337856766151943 \n",
      "\n"
     ]
    },
    {
     "name": "stderr",
     "output_type": "stream",
     "text": [
      "Epoch [12/200]: 100%|███████████████████████████████████████████████████████████████████████████████████████████████████████████████████████████████████████████████████████| 2/2 [00:00<00:00, 11.88it/s, acc=0.44, loss=1.67]\n"
     ]
    },
    {
     "name": "stdout",
     "output_type": "stream",
     "text": [
      "Training metrics: Avg loss: 1.594025, Accuracy score: 0.5107794361525705\n",
      "Validation Metrics: Avg loss: 1.505931, Accuracy score: 0.5232774674115456, Macro F1 Score: 0.17288669587808755 \n",
      "\n"
     ]
    },
    {
     "name": "stderr",
     "output_type": "stream",
     "text": [
      "Epoch [13/200]: 100%|██████████████████████████████████████████████████████████████████████████████████████████████████████████████████████████████████████████████████████| 2/2 [00:00<00:00, 11.71it/s, acc=0.501, loss=1.56]\n"
     ]
    },
    {
     "name": "stdout",
     "output_type": "stream",
     "text": [
      "Training metrics: Avg loss: 1.538623, Accuracy score: 0.5169391139540394\n",
      "Validation Metrics: Avg loss: 1.492156, Accuracy score: 0.5232774674115456, Macro F1 Score: 0.17266056069997132 \n",
      "\n"
     ]
    },
    {
     "name": "stderr",
     "output_type": "stream",
     "text": [
      "Epoch [14/200]: 100%|███████████████████████████████████████████████████████████████████████████████████████████████████████████████████████████████████████████████████████| 2/2 [00:00<00:00, 11.67it/s, acc=0.52, loss=1.48]\n"
     ]
    },
    {
     "name": "stdout",
     "output_type": "stream",
     "text": [
      "Training metrics: Avg loss: 1.495523, Accuracy score: 0.5185974887467425\n",
      "Validation Metrics: Avg loss: 1.478000, Accuracy score: 0.5251396648044693, Macro F1 Score: 0.18535160113005222 \n",
      "\n"
     ]
    },
    {
     "name": "stderr",
     "output_type": "stream",
     "text": [
      "Epoch [15/200]: 100%|██████████████████████████████████████████████████████████████████████████████████████████████████████████████████████████████████████████████████████| 2/2 [00:00<00:00, 11.43it/s, acc=0.585, loss=1.37]\n"
     ]
    },
    {
     "name": "stdout",
     "output_type": "stream",
     "text": [
      "Training metrics: Avg loss: 1.439224, Accuracy score: 0.538971807628524\n",
      "Validation Metrics: Avg loss: 1.464101, Accuracy score: 0.5325884543761639, Macro F1 Score: 0.1947055987542282 \n",
      "\n"
     ]
    },
    {
     "name": "stderr",
     "output_type": "stream",
     "text": [
      "Epoch [16/200]: 100%|██████████████████████████████████████████████████████████████████████████████████████████████████████████████████████████████████████████████████████| 2/2 [00:00<00:00, 10.91it/s, acc=0.564, loss=1.42]\n"
     ]
    },
    {
     "name": "stdout",
     "output_type": "stream",
     "text": [
      "Training metrics: Avg loss: 1.449960, Accuracy score: 0.5418147358445866\n",
      "Validation Metrics: Avg loss: 1.450289, Accuracy score: 0.5400372439478585, Macro F1 Score: 0.20766336316537612 \n",
      "\n"
     ]
    },
    {
     "name": "stderr",
     "output_type": "stream",
     "text": [
      "Epoch [17/200]: 100%|██████████████████████████████████████████████████████████████████████████████████████████████████████████████████████████████████████████████████████| 2/2 [00:00<00:00, 11.34it/s, acc=0.575, loss=1.46]\n"
     ]
    },
    {
     "name": "stdout",
     "output_type": "stream",
     "text": [
      "Training metrics: Avg loss: 1.459908, Accuracy score: 0.5451314854299929\n",
      "Validation Metrics: Avg loss: 1.436813, Accuracy score: 0.5381750465549349, Macro F1 Score: 0.21448341160544315 \n",
      "\n"
     ]
    },
    {
     "name": "stderr",
     "output_type": "stream",
     "text": [
      "Epoch [18/200]: 100%|██████████████████████████████████████████████████████████████████████████████████████████████████████████████████████████████████████████████████████| 2/2 [00:00<00:00, 11.32it/s, acc=0.535, loss=1.47]\n"
     ]
    },
    {
     "name": "stdout",
     "output_type": "stream",
     "text": [
      "Training metrics: Avg loss: 1.453587, Accuracy score: 0.5510542525467899\n",
      "Validation Metrics: Avg loss: 1.423926, Accuracy score: 0.5400372439478585, Macro F1 Score: 0.21457135934901828 \n",
      "\n"
     ]
    },
    {
     "name": "stderr",
     "output_type": "stream",
     "text": [
      "Epoch [19/200]: 100%|██████████████████████████████████████████████████████████████████████████████████████████████████████████████████████████████████████████████████████| 2/2 [00:00<00:00, 11.34it/s, acc=0.622, loss=1.34]\n"
     ]
    },
    {
     "name": "stdout",
     "output_type": "stream",
     "text": [
      "Training metrics: Avg loss: 1.381137, Accuracy score: 0.5600568585643213\n",
      "Validation Metrics: Avg loss: 1.411621, Accuracy score: 0.5400372439478585, Macro F1 Score: 0.21437952898550727 \n",
      "\n"
     ]
    },
    {
     "name": "stderr",
     "output_type": "stream",
     "text": [
      "Epoch [20/200]: 100%|██████████████████████████████████████████████████████████████████████████████████████████████████████████████████████████████████████████████████████| 2/2 [00:00<00:00, 11.87it/s, acc=0.603, loss=1.37]\n"
     ]
    },
    {
     "name": "stdout",
     "output_type": "stream",
     "text": [
      "Training metrics: Avg loss: 1.393237, Accuracy score: 0.5565031982942431\n",
      "Validation Metrics: Avg loss: 1.399789, Accuracy score: 0.5400372439478585, Macro F1 Score: 0.21399685593021436 \n",
      "\n"
     ]
    },
    {
     "name": "stderr",
     "output_type": "stream",
     "text": [
      "Epoch [21/200]: 100%|██████████████████████████████████████████████████████████████████████████████████████████████████████████████████████████████████████████████████████| 2/2 [00:00<00:00, 11.47it/s, acc=0.535, loss=1.47]\n"
     ]
    },
    {
     "name": "stdout",
     "output_type": "stream",
     "text": [
      "Training metrics: Avg loss: 1.430281, Accuracy score: 0.5624259654110401\n",
      "Validation Metrics: Avg loss: 1.387788, Accuracy score: 0.5418994413407822, Macro F1 Score: 0.2145548916445001 \n",
      "\n"
     ]
    },
    {
     "name": "stderr",
     "output_type": "stream",
     "text": [
      "Epoch [22/200]: 100%|███████████████████████████████████████████████████████████████████████████████████████████████████████████████████████████████████████████████████████| 2/2 [00:00<00:00, 11.69it/s, acc=0.68, loss=1.19]\n"
     ]
    },
    {
     "name": "stdout",
     "output_type": "stream",
     "text": [
      "Training metrics: Avg loss: 1.301004, Accuracy score: 0.5669272684198058\n",
      "Validation Metrics: Avg loss: 1.375636, Accuracy score: 0.5437616387337058, Macro F1 Score: 0.21515510208847455 \n",
      "\n"
     ]
    },
    {
     "name": "stderr",
     "output_type": "stream",
     "text": [
      "Epoch [23/200]: 100%|███████████████████████████████████████████████████████████████████████████████████████████████████████████████████████████████████████████████████████| 2/2 [00:00<00:00,  9.69it/s, acc=0.57, loss=1.32]\n"
     ]
    },
    {
     "name": "stdout",
     "output_type": "stream",
     "text": [
      "Training metrics: Avg loss: 1.347629, Accuracy score: 0.5690594645818526\n",
      "Validation Metrics: Avg loss: 1.363960, Accuracy score: 0.547486033519553, Macro F1 Score: 0.21581445523193096 \n",
      "\n"
     ]
    },
    {
     "name": "stderr",
     "output_type": "stream",
     "text": [
      "Epoch [24/200]: 100%|██████████████████████████████████████████████████████████████████████████████████████████████████████████████████████████████████████████████████████| 2/2 [00:00<00:00, 10.94it/s, acc=0.565, loss=1.38]\n"
     ]
    },
    {
     "name": "stdout",
     "output_type": "stream",
     "text": [
      "Training metrics: Avg loss: 1.367266, Accuracy score: 0.5745084103293059\n",
      "Validation Metrics: Avg loss: 1.352634, Accuracy score: 0.5512104283054003, Macro F1 Score: 0.21651558627885742 \n",
      "\n"
     ]
    },
    {
     "name": "stderr",
     "output_type": "stream",
     "text": [
      "Epoch [25/200]: 100%|██████████████████████████████████████████████████████████████████████████████████████████████████████████████████████████████████████████████████████| 2/2 [00:00<00:00,  6.57it/s, acc=0.566, loss=1.33]\n"
     ]
    },
    {
     "name": "stdout",
     "output_type": "stream",
     "text": [
      "Training metrics: Avg loss: 1.337640, Accuracy score: 0.5775882492300403\n",
      "Validation Metrics: Avg loss: 1.341439, Accuracy score: 0.5549348230912476, Macro F1 Score: 0.216943362710938 \n",
      "\n"
     ]
    },
    {
     "name": "stderr",
     "output_type": "stream",
     "text": [
      "Epoch [26/200]: 100%|██████████████████████████████████████████████████████████████████████████████████████████████████████████████████████████████████████████████████████| 2/2 [00:00<00:00, 11.21it/s, acc=0.635, loss=1.23]\n"
     ]
    },
    {
     "name": "stdout",
     "output_type": "stream",
     "text": [
      "Training metrics: Avg loss: 1.283625, Accuracy score: 0.5785358919687278\n",
      "Validation Metrics: Avg loss: 1.329972, Accuracy score: 0.5586592178770949, Macro F1 Score: 0.22324429433322357 \n",
      "\n"
     ]
    },
    {
     "name": "stderr",
     "output_type": "stream",
     "text": [
      "Epoch [27/200]: 100%|███████████████████████████████████████████████████████████████████████████████████████████████████████████████████████████████████████████████████████| 2/2 [00:00<00:00, 11.32it/s, acc=0.51, loss=1.45]\n"
     ]
    },
    {
     "name": "stdout",
     "output_type": "stream",
     "text": [
      "Training metrics: Avg loss: 1.370184, Accuracy score: 0.5830371949774935\n",
      "Validation Metrics: Avg loss: 1.319101, Accuracy score: 0.5642458100558659, Macro F1 Score: 0.230214451572199 \n",
      "\n"
     ]
    },
    {
     "name": "stderr",
     "output_type": "stream",
     "text": [
      "Epoch [28/200]: 100%|██████████████████████████████████████████████████████████████████████████████████████████████████████████████████████████████████████████████████████| 2/2 [00:00<00:00, 10.88it/s, acc=0.618, loss=1.22]\n"
     ]
    },
    {
     "name": "stdout",
     "output_type": "stream",
     "text": [
      "Training metrics: Avg loss: 1.264360, Accuracy score: 0.5835110163468372\n",
      "Validation Metrics: Avg loss: 1.308964, Accuracy score: 0.5661080074487895, Macro F1 Score: 0.23384034128323544 \n",
      "\n"
     ]
    },
    {
     "name": "stderr",
     "output_type": "stream",
     "text": [
      "Epoch [29/200]: 100%|██████████████████████████████████████████████████████████████████████████████████████████████████████████████████████████████████████████████████████| 2/2 [00:00<00:00, 11.34it/s, acc=0.573, loss=1.34]\n"
     ]
    },
    {
     "name": "stdout",
     "output_type": "stream",
     "text": [
      "Training metrics: Avg loss: 1.308424, Accuracy score: 0.5908552475716655\n",
      "Validation Metrics: Avg loss: 1.299430, Accuracy score: 0.5716945996275605, Macro F1 Score: 0.24789134605452962 \n",
      "\n"
     ]
    },
    {
     "name": "stderr",
     "output_type": "stream",
     "text": [
      "Epoch [30/200]: 100%|███████████████████████████████████████████████████████████████████████████████████████████████████████████████████████████████████████████████████████| 2/2 [00:00<00:00, 11.29it/s, acc=0.635, loss=1.2]\n"
     ]
    },
    {
     "name": "stdout",
     "output_type": "stream",
     "text": [
      "Training metrics: Avg loss: 1.243160, Accuracy score: 0.5915659796256811\n",
      "Validation Metrics: Avg loss: 1.290326, Accuracy score: 0.5772811918063314, Macro F1 Score: 0.26466604775432334 \n",
      "\n"
     ]
    },
    {
     "name": "stderr",
     "output_type": "stream",
     "text": [
      "Epoch [31/200]: 100%|███████████████████████████████████████████████████████████████████████████████████████████████████████████████████████████████████████████████████████| 2/2 [00:00<00:00, 11.13it/s, acc=0.577, loss=1.3]\n"
     ]
    },
    {
     "name": "stdout",
     "output_type": "stream",
     "text": [
      "Training metrics: Avg loss: 1.269740, Accuracy score: 0.5910921582563373\n",
      "Validation Metrics: Avg loss: 1.281331, Accuracy score: 0.5865921787709497, Macro F1 Score: 0.28663259042185296 \n",
      "\n"
     ]
    },
    {
     "name": "stderr",
     "output_type": "stream",
     "text": [
      "Epoch [32/200]: 100%|██████████████████████████████████████████████████████████████████████████████████████████████████████████████████████████████████████████████████████| 2/2 [00:00<00:00, 11.11it/s, acc=0.699, loss=1.06]\n"
     ]
    },
    {
     "name": "stdout",
     "output_type": "stream",
     "text": [
      "Training metrics: Avg loss: 1.165364, Accuracy score: 0.5967780146884625\n",
      "Validation Metrics: Avg loss: 1.272608, Accuracy score: 0.5828677839851024, Macro F1 Score: 0.2922593016360399 \n",
      "\n"
     ]
    },
    {
     "name": "stderr",
     "output_type": "stream",
     "text": [
      "Epoch [33/200]: 100%|██████████████████████████████████████████████████████████████████████████████████████████████████████████████████████████████████████████████████████| 2/2 [00:00<00:00, 11.11it/s, acc=0.696, loss=1.07]\n"
     ]
    },
    {
     "name": "stdout",
     "output_type": "stream",
     "text": [
      "Training metrics: Avg loss: 1.158298, Accuracy score: 0.5967780146884625\n",
      "Validation Metrics: Avg loss: 1.263859, Accuracy score: 0.590316573556797, Macro F1 Score: 0.3145773952897096 \n",
      "\n"
     ]
    },
    {
     "name": "stderr",
     "output_type": "stream",
     "text": [
      "Epoch [34/200]: 100%|██████████████████████████████████████████████████████████████████████████████████████████████████████████████████████████████████████████████████████| 2/2 [00:00<00:00, 11.01it/s, acc=0.544, loss=1.29]\n"
     ]
    },
    {
     "name": "stdout",
     "output_type": "stream",
     "text": [
      "Training metrics: Avg loss: 1.252252, Accuracy score: 0.5939350864723999\n",
      "Validation Metrics: Avg loss: 1.255533, Accuracy score: 0.5828677839851024, Macro F1 Score: 0.30667203398742826 \n",
      "\n"
     ]
    },
    {
     "name": "stderr",
     "output_type": "stream",
     "text": [
      "Epoch [35/200]: 100%|██████████████████████████████████████████████████████████████████████████████████████████████████████████████████████████████████████████████████████| 2/2 [00:00<00:00, 11.06it/s, acc=0.575, loss=1.23]\n"
     ]
    },
    {
     "name": "stdout",
     "output_type": "stream",
     "text": [
      "Training metrics: Avg loss: 1.221203, Accuracy score: 0.6003316749585407\n",
      "Validation Metrics: Avg loss: 1.247904, Accuracy score: 0.5828677839851024, Macro F1 Score: 0.3107033708167294 \n",
      "\n"
     ]
    },
    {
     "name": "stderr",
     "output_type": "stream",
     "text": [
      "Epoch [36/200]: 100%|██████████████████████████████████████████████████████████████████████████████████████████████████████████████████████████████████████████████████████| 2/2 [00:00<00:00, 11.15it/s, acc=0.652, loss=1.11]\n"
     ]
    },
    {
     "name": "stdout",
     "output_type": "stream",
     "text": [
      "Training metrics: Avg loss: 1.161202, Accuracy score: 0.6053067993366501\n",
      "Validation Metrics: Avg loss: 1.240718, Accuracy score: 0.5884543761638734, Macro F1 Score: 0.3166211466223146 \n",
      "\n"
     ]
    },
    {
     "name": "stderr",
     "output_type": "stream",
     "text": [
      "Epoch [37/200]: 100%|███████████████████████████████████████████████████████████████████████████████████████████████████████████████████████████████████████████████████████| 2/2 [00:00<00:00, 11.37it/s, acc=0.623, loss=1.2]\n"
     ]
    },
    {
     "name": "stdout",
     "output_type": "stream",
     "text": [
      "Training metrics: Avg loss: 1.188719, Accuracy score: 0.6060175313906657\n",
      "Validation Metrics: Avg loss: 1.233505, Accuracy score: 0.5921787709497207, Macro F1 Score: 0.3177990466246134 \n",
      "\n"
     ]
    },
    {
     "name": "stderr",
     "output_type": "stream",
     "text": [
      "Epoch [38/200]: 100%|██████████████████████████████████████████████████████████████████████████████████████████████████████████████████████████████████████████████████████| 2/2 [00:00<00:00, 11.22it/s, acc=0.633, loss=1.14]\n"
     ]
    },
    {
     "name": "stdout",
     "output_type": "stream",
     "text": [
      "Training metrics: Avg loss: 1.155204, Accuracy score: 0.6105188343994314\n",
      "Validation Metrics: Avg loss: 1.226258, Accuracy score: 0.590316573556797, Macro F1 Score: 0.3162248500635337 \n",
      "\n"
     ]
    },
    {
     "name": "stderr",
     "output_type": "stream",
     "text": [
      "Epoch [39/200]: 100%|██████████████████████████████████████████████████████████████████████████████████████████████████████████████████████████████████████████████████████| 2/2 [00:00<00:00, 11.05it/s, acc=0.629, loss=1.08]\n"
     ]
    },
    {
     "name": "stdout",
     "output_type": "stream",
     "text": [
      "Training metrics: Avg loss: 1.128196, Accuracy score: 0.6069651741293532\n",
      "Validation Metrics: Avg loss: 1.218941, Accuracy score: 0.5865921787709497, Macro F1 Score: 0.3180032728998742 \n",
      "\n"
     ]
    },
    {
     "name": "stderr",
     "output_type": "stream",
     "text": [
      "Epoch [40/200]: 100%|██████████████████████████████████████████████████████████████████████████████████████████████████████████████████████████████████████████████████████| 2/2 [00:00<00:00, 10.74it/s, acc=0.606, loss=1.17]\n"
     ]
    },
    {
     "name": "stdout",
     "output_type": "stream",
     "text": [
      "Training metrics: Avg loss: 1.157807, Accuracy score: 0.6072020848140252\n",
      "Validation Metrics: Avg loss: 1.210958, Accuracy score: 0.590316573556797, Macro F1 Score: 0.3179599640125956 \n",
      "\n"
     ]
    },
    {
     "name": "stderr",
     "output_type": "stream",
     "text": [
      "Epoch [41/200]: 100%|██████████████████████████████████████████████████████████████████████████████████████████████████████████████████████████████████████████████████████| 2/2 [00:00<00:00, 11.43it/s, acc=0.629, loss=1.14]\n"
     ]
    },
    {
     "name": "stdout",
     "output_type": "stream",
     "text": [
      "Training metrics: Avg loss: 1.140245, Accuracy score: 0.6150201374081972\n",
      "Validation Metrics: Avg loss: 1.201411, Accuracy score: 0.5977653631284916, Macro F1 Score: 0.33986673175846943 \n",
      "\n"
     ]
    },
    {
     "name": "stderr",
     "output_type": "stream",
     "text": [
      "Epoch [42/200]: 100%|██████████████████████████████████████████████████████████████████████████████████████████████████████████████████████████████████████████████████████| 2/2 [00:00<00:00, 11.34it/s, acc=0.666, loss=1.06]\n"
     ]
    },
    {
     "name": "stdout",
     "output_type": "stream",
     "text": [
      "Training metrics: Avg loss: 1.098021, Accuracy score: 0.624970386164416\n",
      "Validation Metrics: Avg loss: 1.191098, Accuracy score: 0.5940409683426443, Macro F1 Score: 0.33486970575367225 \n",
      "\n"
     ]
    },
    {
     "name": "stderr",
     "output_type": "stream",
     "text": [
      "Epoch [43/200]: 100%|██████████████████████████████████████████████████████████████████████████████████████████████████████████████████████████████████████████████████████| 2/2 [00:00<00:00, 10.91it/s, acc=0.579, loss=1.21]\n"
     ]
    },
    {
     "name": "stdout",
     "output_type": "stream",
     "text": [
      "Training metrics: Avg loss: 1.158730, Accuracy score: 0.6278133143804786\n",
      "Validation Metrics: Avg loss: 1.181063, Accuracy score: 0.595903165735568, Macro F1 Score: 0.3523923330818973 \n",
      "\n"
     ]
    },
    {
     "name": "stderr",
     "output_type": "stream",
     "text": [
      "Epoch [44/200]: 100%|██████████████████████████████████████████████████████████████████████████████████████████████████████████████████████████████████████████████████████| 2/2 [00:00<00:00, 11.07it/s, acc=0.517, loss=1.36]\n"
     ]
    },
    {
     "name": "stdout",
     "output_type": "stream",
     "text": [
      "Training metrics: Avg loss: 1.218119, Accuracy score: 0.6320777067045724\n",
      "Validation Metrics: Avg loss: 1.171818, Accuracy score: 0.595903165735568, Macro F1 Score: 0.36147018439011724 \n",
      "\n"
     ]
    },
    {
     "name": "stderr",
     "output_type": "stream",
     "text": [
      "Epoch [45/200]: 100%|██████████████████████████████████████████████████████████████████████████████████████████████████████████████████████████████████████████████████████| 2/2 [00:00<00:00, 10.54it/s, acc=0.658, loss=1.03]\n"
     ]
    },
    {
     "name": "stdout",
     "output_type": "stream",
     "text": [
      "Training metrics: Avg loss: 1.069087, Accuracy score: 0.6316038853352286\n",
      "Validation Metrics: Avg loss: 1.164018, Accuracy score: 0.6033519553072626, Macro F1 Score: 0.3791352645591386 \n",
      "\n"
     ]
    },
    {
     "name": "stderr",
     "output_type": "stream",
     "text": [
      "Epoch [46/200]: 100%|█████████████████████████████████████████████████████████████████████████████████████████████████████████████████████████████████████████████████████| 2/2 [00:00<00:00, 10.94it/s, acc=0.695, loss=0.995]\n"
     ]
    },
    {
     "name": "stdout",
     "output_type": "stream",
     "text": [
      "Training metrics: Avg loss: 1.051005, Accuracy score: 0.6427386875148069\n",
      "Validation Metrics: Avg loss: 1.156042, Accuracy score: 0.6052141527001862, Macro F1 Score: 0.38663784047342675 \n",
      "\n"
     ]
    },
    {
     "name": "stderr",
     "output_type": "stream",
     "text": [
      "Epoch [47/200]: 100%|███████████████████████████████████████████████████████████████████████████████████████████████████████████████████████████████████████████████████████| 2/2 [00:00<00:00,  9.46it/s, acc=0.66, loss=1.11]\n"
     ]
    },
    {
     "name": "stdout",
     "output_type": "stream",
     "text": [
      "Training metrics: Avg loss: 1.096087, Accuracy score: 0.6422648661454632\n",
      "Validation Metrics: Avg loss: 1.148215, Accuracy score: 0.6108007448789572, Macro F1 Score: 0.38572826198477284 \n",
      "\n"
     ]
    },
    {
     "name": "stderr",
     "output_type": "stream",
     "text": [
      "Epoch [48/200]: 100%|█████████████████████████████████████████████████████████████████████████████████████████████████████████████████████████████████████████████████████| 2/2 [00:00<00:00, 10.81it/s, acc=0.712, loss=0.977]\n"
     ]
    },
    {
     "name": "stdout",
     "output_type": "stream",
     "text": [
      "Training metrics: Avg loss: 1.029296, Accuracy score: 0.6448708836768539\n",
      "Validation Metrics: Avg loss: 1.141506, Accuracy score: 0.6238361266294227, Macro F1 Score: 0.39312993951691105 \n",
      "\n"
     ]
    },
    {
     "name": "stderr",
     "output_type": "stream",
     "text": [
      "Epoch [49/200]: 100%|██████████████████████████████████████████████████████████████████████████████████████████████████████████████████████████████████████████████████████| 2/2 [00:00<00:00, 10.34it/s, acc=0.604, loss=1.11]\n"
     ]
    },
    {
     "name": "stdout",
     "output_type": "stream",
     "text": [
      "Training metrics: Avg loss: 1.078182, Accuracy score: 0.6467661691542289\n",
      "Validation Metrics: Avg loss: 1.136765, Accuracy score: 0.6294227188081937, Macro F1 Score: 0.3981129883442116 \n",
      "\n"
     ]
    },
    {
     "name": "stderr",
     "output_type": "stream",
     "text": [
      "Epoch [50/200]: 100%|█████████████████████████████████████████████████████████████████████████████████████████████████████████████████████████████████████████████████████| 2/2 [00:00<00:00, 10.99it/s, acc=0.746, loss=0.863]\n"
     ]
    },
    {
     "name": "stdout",
     "output_type": "stream",
     "text": [
      "Training metrics: Avg loss: 0.967877, Accuracy score: 0.6474769012082445\n",
      "Validation Metrics: Avg loss: 1.132113, Accuracy score: 0.6294227188081937, Macro F1 Score: 0.39960220376618394 \n",
      "\n"
     ]
    },
    {
     "name": "stderr",
     "output_type": "stream",
     "text": [
      "Epoch [51/200]: 100%|██████████████████████████████████████████████████████████████████████████████████████████████████████████████████████████████████████████████████████| 2/2 [00:00<00:00, 10.94it/s, acc=0.599, loss=1.14]\n"
     ]
    },
    {
     "name": "stdout",
     "output_type": "stream",
     "text": [
      "Training metrics: Avg loss: 1.085972, Accuracy score: 0.6467661691542289\n",
      "Validation Metrics: Avg loss: 1.126116, Accuracy score: 0.62756052141527, Macro F1 Score: 0.4036438637946441 \n",
      "\n"
     ]
    },
    {
     "name": "stderr",
     "output_type": "stream",
     "text": [
      "Epoch [52/200]: 100%|██████████████████████████████████████████████████████████████████████████████████████████████████████████████████████████████████████████████████████| 2/2 [00:00<00:00, 11.08it/s, acc=0.602, loss=1.18]\n"
     ]
    },
    {
     "name": "stdout",
     "output_type": "stream",
     "text": [
      "Training metrics: Avg loss: 1.098436, Accuracy score: 0.6569533285951197\n",
      "Validation Metrics: Avg loss: 1.117880, Accuracy score: 0.6350093109869647, Macro F1 Score: 0.40948173803836513 \n",
      "\n"
     ]
    },
    {
     "name": "stderr",
     "output_type": "stream",
     "text": [
      "Epoch [53/200]: 100%|██████████████████████████████████████████████████████████████████████████████████████████████████████████████████████████████████████████████████████| 2/2 [00:00<00:00, 10.74it/s, acc=0.652, loss=1.03]\n"
     ]
    },
    {
     "name": "stdout",
     "output_type": "stream",
     "text": [
      "Training metrics: Avg loss: 1.029360, Accuracy score: 0.6588486140724946\n",
      "Validation Metrics: Avg loss: 1.109989, Accuracy score: 0.638733705772812, Macro F1 Score: 0.4092747519405861 \n",
      "\n"
     ]
    },
    {
     "name": "stderr",
     "output_type": "stream",
     "text": [
      "Epoch [54/200]: 100%|██████████████████████████████████████████████████████████████████████████████████████████████████████████████████████████████████████████████████████| 2/2 [00:00<00:00, 10.98it/s, acc=0.602, loss=1.16]\n"
     ]
    },
    {
     "name": "stdout",
     "output_type": "stream",
     "text": [
      "Training metrics: Avg loss: 1.076155, Accuracy score: 0.6609808102345416\n",
      "Validation Metrics: Avg loss: 1.103574, Accuracy score: 0.6424581005586593, Macro F1 Score: 0.41699924631699004 \n",
      "\n"
     ]
    },
    {
     "name": "stderr",
     "output_type": "stream",
     "text": [
      "Epoch [55/200]: 100%|██████████████████████████████████████████████████████████████████████████████████████████████████████████████████████████████████████████████████████| 2/2 [00:00<00:00, 11.10it/s, acc=0.619, loss=1.04]\n"
     ]
    },
    {
     "name": "stdout",
     "output_type": "stream",
     "text": [
      "Training metrics: Avg loss: 1.021996, Accuracy score: 0.6661928452973229\n",
      "Validation Metrics: Avg loss: 1.097365, Accuracy score: 0.6443202979515829, Macro F1 Score: 0.4246237886175238 \n",
      "\n"
     ]
    },
    {
     "name": "stderr",
     "output_type": "stream",
     "text": [
      "Epoch [56/200]: 100%|█████████████████████████████████████████████████████████████████████████████████████████████████████████████████████████████████████████████████████████| 2/2 [00:00<00:00, 10.94it/s, acc=0.7, loss=0.9]\n"
     ]
    },
    {
     "name": "stdout",
     "output_type": "stream",
     "text": [
      "Training metrics: Avg loss: 0.954755, Accuracy score: 0.6773276474769012\n",
      "Validation Metrics: Avg loss: 1.091056, Accuracy score: 0.6480446927374302, Macro F1 Score: 0.42953874466058517 \n",
      "\n"
     ]
    },
    {
     "name": "stderr",
     "output_type": "stream",
     "text": [
      "Epoch [57/200]: 100%|███████████████████████████████████████████████████████████████████████████████████████████████████████████████████████████████████████████████████████| 2/2 [00:00<00:00, 10.22it/s, acc=0.594, loss=1.2]\n"
     ]
    },
    {
     "name": "stdout",
     "output_type": "stream",
     "text": [
      "Training metrics: Avg loss: 1.081431, Accuracy score: 0.6766169154228856\n",
      "Validation Metrics: Avg loss: 1.083428, Accuracy score: 0.6480446927374302, Macro F1 Score: 0.4289785611142971 \n",
      "\n"
     ]
    },
    {
     "name": "stderr",
     "output_type": "stream",
     "text": [
      "Epoch [58/200]: 100%|█████████████████████████████████████████████████████████████████████████████████████████████████████████████████████████████████████████████████████| 2/2 [00:00<00:00, 10.54it/s, acc=0.708, loss=0.883]\n"
     ]
    },
    {
     "name": "stdout",
     "output_type": "stream",
     "text": [
      "Training metrics: Avg loss: 0.945841, Accuracy score: 0.6685619521440417\n",
      "Validation Metrics: Avg loss: 1.076856, Accuracy score: 0.6499068901303539, Macro F1 Score: 0.43529630191025415 \n",
      "\n"
     ]
    },
    {
     "name": "stderr",
     "output_type": "stream",
     "text": [
      "Epoch [59/200]: 100%|██████████████████████████████████████████████████████████████████████████████████████████████████████████████████████████████████████████████████████| 2/2 [00:00<00:00, 10.84it/s, acc=0.643, loss=1.11]\n"
     ]
    },
    {
     "name": "stdout",
     "output_type": "stream",
     "text": [
      "Training metrics: Avg loss: 1.038918, Accuracy score: 0.6775645581615731\n",
      "Validation Metrics: Avg loss: 1.071749, Accuracy score: 0.6480446927374302, Macro F1 Score: 0.43102882159865197 \n",
      "\n"
     ]
    },
    {
     "name": "stderr",
     "output_type": "stream",
     "text": [
      "Epoch [60/200]: 100%|██████████████████████████████████████████████████████████████████████████████████████████████████████████████████████████████████████████████████████| 2/2 [00:00<00:00, 10.89it/s, acc=0.626, loss=1.07]\n"
     ]
    },
    {
     "name": "stdout",
     "output_type": "stream",
     "text": [
      "Training metrics: Avg loss: 1.013052, Accuracy score: 0.6818289504856669\n",
      "Validation Metrics: Avg loss: 1.065607, Accuracy score: 0.6461824953445066, Macro F1 Score: 0.427180723441976 \n",
      "\n"
     ]
    },
    {
     "name": "stderr",
     "output_type": "stream",
     "text": [
      "Epoch [61/200]: 100%|█████████████████████████████████████████████████████████████████████████████████████████████████████████████████████████████████████████████████████| 2/2 [00:00<00:00, 10.92it/s, acc=0.728, loss=0.825]\n"
     ]
    },
    {
     "name": "stdout",
     "output_type": "stream",
     "text": [
      "Training metrics: Avg loss: 0.901856, Accuracy score: 0.6868040748637764\n",
      "Validation Metrics: Avg loss: 1.059364, Accuracy score: 0.6517690875232774, Macro F1 Score: 0.43148045568288473 \n",
      "\n"
     ]
    },
    {
     "name": "stderr",
     "output_type": "stream",
     "text": [
      "Epoch [62/200]: 100%|█████████████████████████████████████████████████████████████████████████████████████████████████████████████████████████████████████████████████████| 2/2 [00:00<00:00, 11.05it/s, acc=0.671, loss=0.973]\n"
     ]
    },
    {
     "name": "stdout",
     "output_type": "stream",
     "text": [
      "Training metrics: Avg loss: 0.967766, Accuracy score: 0.6754323619995262\n",
      "Validation Metrics: Avg loss: 1.053318, Accuracy score: 0.6517690875232774, Macro F1 Score: 0.4302613369514981 \n",
      "\n"
     ]
    },
    {
     "name": "stderr",
     "output_type": "stream",
     "text": [
      "Epoch [63/200]: 100%|██████████████████████████████████████████████████████████████████████████████████████████████████████████████████████████████████████████████████████| 2/2 [00:00<00:00,  9.20it/s, acc=0.792, loss=0.75]\n"
     ]
    },
    {
     "name": "stdout",
     "output_type": "stream",
     "text": [
      "Training metrics: Avg loss: 0.862935, Accuracy score: 0.6903577351338546\n",
      "Validation Metrics: Avg loss: 1.046348, Accuracy score: 0.6573556797020484, Macro F1 Score: 0.43388511540339575 \n",
      "\n"
     ]
    },
    {
     "name": "stderr",
     "output_type": "stream",
     "text": [
      "Epoch [64/200]: 100%|█████████████████████████████████████████████████████████████████████████████████████████████████████████████████████████████████████████████████████| 2/2 [00:00<00:00,  6.05it/s, acc=0.708, loss=0.947]\n"
     ]
    },
    {
     "name": "stdout",
     "output_type": "stream",
     "text": [
      "Training metrics: Avg loss: 0.944152, Accuracy score: 0.6903577351338546\n",
      "Validation Metrics: Avg loss: 1.039777, Accuracy score: 0.6554934823091247, Macro F1 Score: 0.4316902564844512 \n",
      "\n"
     ]
    },
    {
     "name": "stderr",
     "output_type": "stream",
     "text": [
      "Epoch [65/200]: 100%|█████████████████████████████████████████████████████████████████████████████████████████████████████████████████████████████████████████████████████| 2/2 [00:00<00:00, 10.57it/s, acc=0.683, loss=0.959]\n"
     ]
    },
    {
     "name": "stdout",
     "output_type": "stream",
     "text": [
      "Training metrics: Avg loss: 0.946466, Accuracy score: 0.693200663349917\n",
      "Validation Metrics: Avg loss: 1.033452, Accuracy score: 0.659217877094972, Macro F1 Score: 0.43871135403240274 \n",
      "\n"
     ]
    },
    {
     "name": "stderr",
     "output_type": "stream",
     "text": [
      "Epoch [66/200]: 100%|█████████████████████████████████████████████████████████████████████████████████████████████████████████████████████████████████████████████████████| 2/2 [00:00<00:00, 10.90it/s, acc=0.655, loss=0.986]\n"
     ]
    },
    {
     "name": "stdout",
     "output_type": "stream",
     "text": [
      "Training metrics: Avg loss: 0.961067, Accuracy score: 0.6870409855484483\n",
      "Validation Metrics: Avg loss: 1.028191, Accuracy score: 0.659217877094972, Macro F1 Score: 0.43982807714988703 \n",
      "\n"
     ]
    },
    {
     "name": "stderr",
     "output_type": "stream",
     "text": [
      "Epoch [67/200]: 100%|██████████████████████████████████████████████████████████████████████████████████████████████████████████████████████████████████████████████████████| 2/2 [00:00<00:00, 10.80it/s, acc=0.643, loss=1.06]\n"
     ]
    },
    {
     "name": "stdout",
     "output_type": "stream",
     "text": [
      "Training metrics: Avg loss: 0.987190, Accuracy score: 0.6915422885572139\n",
      "Validation Metrics: Avg loss: 1.023566, Accuracy score: 0.6666666666666666, Macro F1 Score: 0.4493841908934549 \n",
      "\n"
     ]
    },
    {
     "name": "stderr",
     "output_type": "stream",
     "text": [
      "Epoch [68/200]: 100%|██████████████████████████████████████████████████████████████████████████████████████████████████████████████████████████████████████████████████████| 2/2 [00:00<00:00, 10.46it/s, acc=0.73, loss=0.837]\n"
     ]
    },
    {
     "name": "stdout",
     "output_type": "stream",
     "text": [
      "Training metrics: Avg loss: 0.887704, Accuracy score: 0.6915422885572139\n",
      "Validation Metrics: Avg loss: 1.017559, Accuracy score: 0.6685288640595903, Macro F1 Score: 0.4491108702530806 \n",
      "\n"
     ]
    },
    {
     "name": "stderr",
     "output_type": "stream",
     "text": [
      "Epoch [69/200]: 100%|██████████████████████████████████████████████████████████████████████████████████████████████████████████████████████████████████████████████████████| 2/2 [00:00<00:00, 10.81it/s, acc=0.644, loss=1.08]\n"
     ]
    },
    {
     "name": "stdout",
     "output_type": "stream",
     "text": [
      "Training metrics: Avg loss: 0.981964, Accuracy score: 0.7038616441601516\n",
      "Validation Metrics: Avg loss: 1.011582, Accuracy score: 0.6666666666666666, Macro F1 Score: 0.44388364701397975 \n",
      "\n"
     ]
    },
    {
     "name": "stderr",
     "output_type": "stream",
     "text": [
      "Epoch [70/200]: 100%|█████████████████████████████████████████████████████████████████████████████████████████████████████████████████████████████████████████████████████| 2/2 [00:00<00:00, 10.68it/s, acc=0.798, loss=0.664]\n"
     ]
    },
    {
     "name": "stdout",
     "output_type": "stream",
     "text": [
      "Training metrics: Avg loss: 0.802083, Accuracy score: 0.7019663586827766\n",
      "Validation Metrics: Avg loss: 1.005643, Accuracy score: 0.6685288640595903, Macro F1 Score: 0.445889356954899 \n",
      "\n"
     ]
    },
    {
     "name": "stderr",
     "output_type": "stream",
     "text": [
      "Epoch [71/200]: 100%|█████████████████████████████████████████████████████████████████████████████████████████████████████████████████████████████████████████████████████| 2/2 [00:00<00:00, 10.91it/s, acc=0.709, loss=0.908]\n"
     ]
    },
    {
     "name": "stdout",
     "output_type": "stream",
     "text": [
      "Training metrics: Avg loss: 0.899187, Accuracy score: 0.7093105899076049\n",
      "Validation Metrics: Avg loss: 1.000263, Accuracy score: 0.6722532588454376, Macro F1 Score: 0.44920547566299024 \n",
      "\n"
     ]
    },
    {
     "name": "stderr",
     "output_type": "stream",
     "text": [
      "Epoch [72/200]: 100%|█████████████████████████████████████████████████████████████████████████████████████████████████████████████████████████████████████████████████████| 2/2 [00:00<00:00, 11.11it/s, acc=0.771, loss=0.729]\n"
     ]
    },
    {
     "name": "stdout",
     "output_type": "stream",
     "text": [
      "Training metrics: Avg loss: 0.813764, Accuracy score: 0.7062307510068704\n",
      "Validation Metrics: Avg loss: 0.996146, Accuracy score: 0.664804469273743, Macro F1 Score: 0.438278375235882 \n",
      "\n"
     ]
    },
    {
     "name": "stderr",
     "output_type": "stream",
     "text": [
      "Epoch [73/200]: 100%|█████████████████████████████████████████████████████████████████████████████████████████████████████████████████████████████████████████████████████| 2/2 [00:00<00:00, 10.90it/s, acc=0.733, loss=0.845]\n"
     ]
    },
    {
     "name": "stdout",
     "output_type": "stream",
     "text": [
      "Training metrics: Avg loss: 0.871352, Accuracy score: 0.7000710732054015\n",
      "Validation Metrics: Avg loss: 0.993565, Accuracy score: 0.6629422718808193, Macro F1 Score: 0.43929297397757616 \n",
      "\n"
     ]
    },
    {
     "name": "stderr",
     "output_type": "stream",
     "text": [
      "Epoch [74/200]: 100%|██████████████████████████████████████████████████████████████████████████████████████████████████████████████████████████████████████████████████████| 2/2 [00:00<00:00, 10.81it/s, acc=0.605, loss=1.16]\n"
     ]
    },
    {
     "name": "stdout",
     "output_type": "stream",
     "text": [
      "Training metrics: Avg loss: 1.001362, Accuracy score: 0.7048092868988391\n",
      "Validation Metrics: Avg loss: 0.990448, Accuracy score: 0.664804469273743, Macro F1 Score: 0.4405653891955446 \n",
      "\n"
     ]
    },
    {
     "name": "stderr",
     "output_type": "stream",
     "text": [
      "Epoch [75/200]: 100%|██████████████████████████████████████████████████████████████████████████████████████████████████████████████████████████████████████████████████████| 2/2 [00:00<00:00, 10.51it/s, acc=0.647, loss=1.03]\n"
     ]
    },
    {
     "name": "stdout",
     "output_type": "stream",
     "text": [
      "Training metrics: Avg loss: 0.945475, Accuracy score: 0.7045723762141672\n",
      "Validation Metrics: Avg loss: 0.987155, Accuracy score: 0.6685288640595903, Macro F1 Score: 0.4438954002653693 \n",
      "\n"
     ]
    },
    {
     "name": "stderr",
     "output_type": "stream",
     "text": [
      "Epoch [76/200]: 100%|█████████████████████████████████████████████████████████████████████████████████████████████████████████████████████████████████████████████████████| 2/2 [00:00<00:00, 10.13it/s, acc=0.721, loss=0.872]\n"
     ]
    },
    {
     "name": "stdout",
     "output_type": "stream",
     "text": [
      "Training metrics: Avg loss: 0.869437, Accuracy score: 0.7138118929163705\n",
      "Validation Metrics: Avg loss: 0.985764, Accuracy score: 0.6703910614525139, Macro F1 Score: 0.4456385537590496 \n",
      "\n"
     ]
    },
    {
     "name": "stderr",
     "output_type": "stream",
     "text": [
      "Epoch [77/200]: 100%|█████████████████████████████████████████████████████████████████████████████████████████████████████████████████████████████████████████████████████| 2/2 [00:00<00:00, 10.42it/s, acc=0.721, loss=0.895]\n"
     ]
    },
    {
     "name": "stdout",
     "output_type": "stream",
     "text": [
      "Training metrics: Avg loss: 0.878155, Accuracy score: 0.7133380715470268\n",
      "Validation Metrics: Avg loss: 0.983415, Accuracy score: 0.6610800744878957, Macro F1 Score: 0.4423153440801474 \n",
      "\n"
     ]
    },
    {
     "name": "stderr",
     "output_type": "stream",
     "text": [
      "Epoch [78/200]: 100%|█████████████████████████████████████████████████████████████████████████████████████████████████████████████████████████████████████████████████████| 2/2 [00:00<00:00, 10.56it/s, acc=0.689, loss=0.901]\n"
     ]
    },
    {
     "name": "stdout",
     "output_type": "stream",
     "text": [
      "Training metrics: Avg loss: 0.881946, Accuracy score: 0.716891731817105\n",
      "Validation Metrics: Avg loss: 0.978525, Accuracy score: 0.6573556797020484, Macro F1 Score: 0.4394919845259845 \n",
      "\n"
     ]
    },
    {
     "name": "stderr",
     "output_type": "stream",
     "text": [
      "Epoch [79/200]: 100%|█████████████████████████████████████████████████████████████████████████████████████████████████████████████████████████████████████████████████████| 2/2 [00:00<00:00, 11.11it/s, acc=0.769, loss=0.764]\n"
     ]
    },
    {
     "name": "stdout",
     "output_type": "stream",
     "text": [
      "Training metrics: Avg loss: 0.819653, Accuracy score: 0.714759535655058\n",
      "Validation Metrics: Avg loss: 0.971726, Accuracy score: 0.6610800744878957, Macro F1 Score: 0.44034829080049365 \n",
      "\n"
     ]
    },
    {
     "name": "stderr",
     "output_type": "stream",
     "text": [
      "Epoch [80/200]: 100%|█████████████████████████████████████████████████████████████████████████████████████████████████████████████████████████████████████████████████████| 2/2 [00:00<00:00, 11.12it/s, acc=0.756, loss=0.785]\n"
     ]
    },
    {
     "name": "stdout",
     "output_type": "stream",
     "text": [
      "Training metrics: Avg loss: 0.828899, Accuracy score: 0.7176024638711206\n",
      "Validation Metrics: Avg loss: 0.965314, Accuracy score: 0.6703910614525139, Macro F1 Score: 0.44879389476626597 \n",
      "\n"
     ]
    },
    {
     "name": "stderr",
     "output_type": "stream",
     "text": [
      "Epoch [81/200]: 100%|██████████████████████████████████████████████████████████████████████████████████████████████████████████████████████████████████████████████████████| 2/2 [00:00<00:00, 10.69it/s, acc=0.74, loss=0.805]\n"
     ]
    },
    {
     "name": "stdout",
     "output_type": "stream",
     "text": [
      "Training metrics: Avg loss: 0.831608, Accuracy score: 0.716891731817105\n",
      "Validation Metrics: Avg loss: 0.960651, Accuracy score: 0.6722532588454376, Macro F1 Score: 0.4499373302320888 \n",
      "\n"
     ]
    },
    {
     "name": "stderr",
     "output_type": "stream",
     "text": [
      "Epoch [82/200]: 100%|█████████████████████████████████████████████████████████████████████████████████████████████████████████████████████████████████████████████████████| 2/2 [00:00<00:00,  9.95it/s, acc=0.675, loss=0.941]\n"
     ]
    },
    {
     "name": "stdout",
     "output_type": "stream",
     "text": [
      "Training metrics: Avg loss: 0.885767, Accuracy score: 0.7223406775645581\n",
      "Validation Metrics: Avg loss: 0.957691, Accuracy score: 0.6741154562383612, Macro F1 Score: 0.446969572278625 \n",
      "\n"
     ]
    },
    {
     "name": "stderr",
     "output_type": "stream",
     "text": [
      "Epoch [83/200]: 100%|█████████████████████████████████████████████████████████████████████████████████████████████████████████████████████████████████████████████████████| 2/2 [00:00<00:00,  9.65it/s, acc=0.743, loss=0.781]\n"
     ]
    },
    {
     "name": "stdout",
     "output_type": "stream",
     "text": [
      "Training metrics: Avg loss: 0.813835, Accuracy score: 0.7202084814025113\n",
      "Validation Metrics: Avg loss: 0.958303, Accuracy score: 0.6722532588454376, Macro F1 Score: 0.443938769853838 \n",
      "\n"
     ]
    },
    {
     "name": "stderr",
     "output_type": "stream",
     "text": [
      "Epoch [84/200]: 100%|█████████████████████████████████████████████████████████████████████████████████████████████████████████████████████████████████████████████████████| 2/2 [00:00<00:00, 10.59it/s, acc=0.748, loss=0.735]\n"
     ]
    },
    {
     "name": "stdout",
     "output_type": "stream",
     "text": [
      "Training metrics: Avg loss: 0.792027, Accuracy score: 0.7221037668798863\n",
      "Validation Metrics: Avg loss: 0.959383, Accuracy score: 0.6666666666666666, Macro F1 Score: 0.43508098785278737 \n",
      "\n"
     ]
    },
    {
     "name": "stderr",
     "output_type": "stream",
     "text": [
      "Epoch [85/200]: 100%|█████████████████████████████████████████████████████████████████████████████████████████████████████████████████████████████████████████████████████| 2/2 [00:00<00:00, 10.81it/s, acc=0.706, loss=0.913]\n"
     ]
    },
    {
     "name": "stdout",
     "output_type": "stream",
     "text": [
      "Training metrics: Avg loss: 0.865660, Accuracy score: 0.730395640843402\n",
      "Validation Metrics: Avg loss: 0.957760, Accuracy score: 0.6703910614525139, Macro F1 Score: 0.43890402209991664 \n",
      "\n"
     ]
    },
    {
     "name": "stderr",
     "output_type": "stream",
     "text": [
      "Epoch [86/200]: 100%|█████████████████████████████████████████████████████████████████████████████████████████████████████████████████████████████████████████████████████| 2/2 [00:00<00:00, 11.11it/s, acc=0.725, loss=0.878]\n"
     ]
    },
    {
     "name": "stdout",
     "output_type": "stream",
     "text": [
      "Training metrics: Avg loss: 0.850146, Accuracy score: 0.7280265339966833\n",
      "Validation Metrics: Avg loss: 0.954840, Accuracy score: 0.6685288640595903, Macro F1 Score: 0.4386185105483351 \n",
      "\n"
     ]
    },
    {
     "name": "stderr",
     "output_type": "stream",
     "text": [
      "Epoch [87/200]: 100%|█████████████████████████████████████████████████████████████████████████████████████████████████████████████████████████████████████████████████████| 2/2 [00:00<00:00, 11.18it/s, acc=0.746, loss=0.777]\n"
     ]
    },
    {
     "name": "stdout",
     "output_type": "stream",
     "text": [
      "Training metrics: Avg loss: 0.797324, Accuracy score: 0.7230514096185738\n",
      "Validation Metrics: Avg loss: 0.951117, Accuracy score: 0.6685288640595903, Macro F1 Score: 0.43961745166249167 \n",
      "\n"
     ]
    },
    {
     "name": "stderr",
     "output_type": "stream",
     "text": [
      "Epoch [88/200]: 100%|█████████████████████████████████████████████████████████████████████████████████████████████████████████████████████████████████████████████████████| 2/2 [00:00<00:00, 10.03it/s, acc=0.672, loss=0.932]\n"
     ]
    },
    {
     "name": "stdout",
     "output_type": "stream",
     "text": [
      "Training metrics: Avg loss: 0.865310, Accuracy score: 0.7273158019426677\n",
      "Validation Metrics: Avg loss: 0.947130, Accuracy score: 0.6703910614525139, Macro F1 Score: 0.4405517376138603 \n",
      "\n"
     ]
    },
    {
     "name": "stderr",
     "output_type": "stream",
     "text": [
      "Epoch [89/200]: 100%|█████████████████████████████████████████████████████████████████████████████████████████████████████████████████████████████████████████████████████| 2/2 [00:00<00:00, 10.10it/s, acc=0.767, loss=0.657]\n"
     ]
    },
    {
     "name": "stdout",
     "output_type": "stream",
     "text": [
      "Training metrics: Avg loss: 0.746014, Accuracy score: 0.7299218194740583\n",
      "Validation Metrics: Avg loss: 0.944029, Accuracy score: 0.6703910614525139, Macro F1 Score: 0.4452506328459037 \n",
      "\n"
     ]
    },
    {
     "name": "stderr",
     "output_type": "stream",
     "text": [
      "Epoch [90/200]: 100%|███████████████████████████████████████████████████████████████████████████████████████████████████████████████████████████████████████████████████████| 2/2 [00:00<00:00, 10.63it/s, acc=0.7, loss=0.905]\n"
     ]
    },
    {
     "name": "stdout",
     "output_type": "stream",
     "text": [
      "Training metrics: Avg loss: 0.849444, Accuracy score: 0.7372660506988865\n",
      "Validation Metrics: Avg loss: 0.942738, Accuracy score: 0.6797020484171322, Macro F1 Score: 0.4565197094637638 \n",
      "\n"
     ]
    },
    {
     "name": "stderr",
     "output_type": "stream",
     "text": [
      "Epoch [91/200]: 100%|█████████████████████████████████████████████████████████████████████████████████████████████████████████████████████████████████████████████████████| 2/2 [00:00<00:00, 10.76it/s, acc=0.717, loss=0.887]\n"
     ]
    },
    {
     "name": "stdout",
     "output_type": "stream",
     "text": [
      "Training metrics: Avg loss: 0.843825, Accuracy score: 0.7273158019426677\n",
      "Validation Metrics: Avg loss: 0.940294, Accuracy score: 0.6797020484171322, Macro F1 Score: 0.4559435380226748 \n",
      "\n"
     ]
    },
    {
     "name": "stderr",
     "output_type": "stream",
     "text": [
      "Epoch [92/200]: 100%|█████████████████████████████████████████████████████████████████████████████████████████████████████████████████████████████████████████████████████| 2/2 [00:00<00:00,  9.48it/s, acc=0.784, loss=0.708]\n"
     ]
    },
    {
     "name": "stdout",
     "output_type": "stream",
     "text": [
      "Training metrics: Avg loss: 0.765682, Accuracy score: 0.7282634446813552\n",
      "Validation Metrics: Avg loss: 0.935064, Accuracy score: 0.6759776536312849, Macro F1 Score: 0.45034601100528016 \n",
      "\n"
     ]
    },
    {
     "name": "stderr",
     "output_type": "stream",
     "text": [
      "Epoch [93/200]: 100%|█████████████████████████████████████████████████████████████████████████████████████████████████████████████████████████████████████████████████████| 2/2 [00:00<00:00, 10.25it/s, acc=0.764, loss=0.757]\n"
     ]
    },
    {
     "name": "stdout",
     "output_type": "stream",
     "text": [
      "Training metrics: Avg loss: 0.781890, Accuracy score: 0.7377398720682303\n",
      "Validation Metrics: Avg loss: 0.928367, Accuracy score: 0.6797020484171322, Macro F1 Score: 0.4508856539481374 \n",
      "\n"
     ]
    },
    {
     "name": "stderr",
     "output_type": "stream",
     "text": [
      "Epoch [94/200]: 100%|█████████████████████████████████████████████████████████████████████████████████████████████████████████████████████████████████████████████████████| 2/2 [00:00<00:00, 10.33it/s, acc=0.757, loss=0.729]\n"
     ]
    },
    {
     "name": "stdout",
     "output_type": "stream",
     "text": [
      "Training metrics: Avg loss: 0.765754, Accuracy score: 0.7322909263207771\n",
      "Validation Metrics: Avg loss: 0.922919, Accuracy score: 0.6797020484171322, Macro F1 Score: 0.45048352049250884 \n",
      "\n"
     ]
    },
    {
     "name": "stderr",
     "output_type": "stream",
     "text": [
      "Epoch [95/200]: 100%|███████████████████████████████████████████████████████████████████████████████████████████████████████████████████████████████████████████████████████| 2/2 [00:00<00:00, 10.30it/s, acc=0.801, loss=0.6]\n"
     ]
    },
    {
     "name": "stdout",
     "output_type": "stream",
     "text": [
      "Training metrics: Avg loss: 0.719672, Accuracy score: 0.7322909263207771\n",
      "Validation Metrics: Avg loss: 0.920971, Accuracy score: 0.6797020484171322, Macro F1 Score: 0.4491797630028892 \n",
      "\n"
     ]
    },
    {
     "name": "stderr",
     "output_type": "stream",
     "text": [
      "Epoch [96/200]: 100%|█████████████████████████████████████████████████████████████████████████████████████████████████████████████████████████████████████████████████████| 2/2 [00:00<00:00,  9.71it/s, acc=0.657, loss=0.952]\n"
     ]
    },
    {
     "name": "stdout",
     "output_type": "stream",
     "text": [
      "Training metrics: Avg loss: 0.863212, Accuracy score: 0.7436626391850273\n",
      "Validation Metrics: Avg loss: 0.920025, Accuracy score: 0.6778398510242085, Macro F1 Score: 0.450386415015854 \n",
      "\n"
     ]
    },
    {
     "name": "stderr",
     "output_type": "stream",
     "text": [
      "Epoch [97/200]: 100%|█████████████████████████████████████████████████████████████████████████████████████████████████████████████████████████████████████████████████████| 2/2 [00:00<00:00,  9.59it/s, acc=0.793, loss=0.677]\n"
     ]
    },
    {
     "name": "stdout",
     "output_type": "stream",
     "text": [
      "Training metrics: Avg loss: 0.740295, Accuracy score: 0.7365553186448709\n",
      "Validation Metrics: Avg loss: 0.920666, Accuracy score: 0.6741154562383612, Macro F1 Score: 0.44757934289070855 \n",
      "\n"
     ]
    },
    {
     "name": "stderr",
     "output_type": "stream",
     "text": [
      "Epoch [98/200]: 100%|█████████████████████████████████████████████████████████████████████████████████████████████████████████████████████████████████████████████████████| 2/2 [00:00<00:00, 10.44it/s, acc=0.717, loss=0.922]\n"
     ]
    },
    {
     "name": "stdout",
     "output_type": "stream",
     "text": [
      "Training metrics: Avg loss: 0.845327, Accuracy score: 0.7391613361762616\n",
      "Validation Metrics: Avg loss: 0.921200, Accuracy score: 0.6759776536312849, Macro F1 Score: 0.4520356724224104 \n",
      "\n"
     ]
    },
    {
     "name": "stderr",
     "output_type": "stream",
     "text": [
      "Epoch [99/200]: 100%|█████████████████████████████████████████████████████████████████████████████████████████████████████████████████████████████████████████████████████| 2/2 [00:00<00:00,  9.89it/s, acc=0.686, loss=0.922]\n"
     ]
    },
    {
     "name": "stdout",
     "output_type": "stream",
     "text": [
      "Training metrics: Avg loss: 0.846666, Accuracy score: 0.7412935323383084\n",
      "Validation Metrics: Avg loss: 0.917719, Accuracy score: 0.6722532588454376, Macro F1 Score: 0.44688430251574973 \n",
      "\n"
     ]
    },
    {
     "name": "stderr",
     "output_type": "stream",
     "text": [
      "Epoch [100/200]: 100%|█████████████████████████████████████████████████████████████████████████████████████████████████████████████████████████████████████████████████████| 2/2 [00:00<00:00, 10.62it/s, acc=0.74, loss=0.772]\n"
     ]
    },
    {
     "name": "stdout",
     "output_type": "stream",
     "text": [
      "Training metrics: Avg loss: 0.770521, Accuracy score: 0.7481639421937929\n",
      "Validation Metrics: Avg loss: 0.914771, Accuracy score: 0.6666666666666666, Macro F1 Score: 0.4393200420928689 \n",
      "\n"
     ]
    },
    {
     "name": "stderr",
     "output_type": "stream",
     "text": [
      "Epoch [101/200]: 100%|█████████████████████████████████████████████████████████████████████████████████████████████████████████████████████████████████████████████████████| 2/2 [00:00<00:00, 10.32it/s, acc=0.76, loss=0.759]\n"
     ]
    },
    {
     "name": "stdout",
     "output_type": "stream",
     "text": [
      "Training metrics: Avg loss: 0.761357, Accuracy score: 0.7486377635631367\n",
      "Validation Metrics: Avg loss: 0.914907, Accuracy score: 0.6666666666666666, Macro F1 Score: 0.44136349696925886 \n",
      "\n"
     ]
    },
    {
     "name": "stderr",
     "output_type": "stream",
     "text": [
      "Epoch [102/200]: 100%|██████████████████████████████████████████████████████████████████████████████████████████████████████████████████████████████████████████████████████| 2/2 [00:00<00:00, 10.95it/s, acc=0.66, loss=1.01]\n"
     ]
    },
    {
     "name": "stdout",
     "output_type": "stream",
     "text": [
      "Training metrics: Avg loss: 0.875925, Accuracy score: 0.7476901208244492\n",
      "Validation Metrics: Avg loss: 0.915338, Accuracy score: 0.6629422718808193, Macro F1 Score: 0.4380081825331443 \n",
      "\n"
     ]
    },
    {
     "name": "stderr",
     "output_type": "stream",
     "text": [
      "Epoch [103/200]: 100%|████████████████████████████████████████████████████████████████████████████████████████████████████████████████████████████████████████████████████| 2/2 [00:00<00:00, 11.13it/s, acc=0.757, loss=0.768]\n"
     ]
    },
    {
     "name": "stdout",
     "output_type": "stream",
     "text": [
      "Training metrics: Avg loss: 0.767840, Accuracy score: 0.7431888178156835\n",
      "Validation Metrics: Avg loss: 0.915571, Accuracy score: 0.6610800744878957, Macro F1 Score: 0.437836551984634 \n",
      "\n"
     ]
    },
    {
     "name": "stderr",
     "output_type": "stream",
     "text": [
      "Epoch [104/200]: 100%|█████████████████████████████████████████████████████████████████████████████████████████████████████████████████████████████████████████████████████| 2/2 [00:00<00:00, 10.69it/s, acc=0.74, loss=0.788]\n"
     ]
    },
    {
     "name": "stdout",
     "output_type": "stream",
     "text": [
      "Training metrics: Avg loss: 0.772945, Accuracy score: 0.7467424780857617\n",
      "Validation Metrics: Avg loss: 0.914006, Accuracy score: 0.6685288640595903, Macro F1 Score: 0.44384918853101596 \n",
      "\n"
     ]
    },
    {
     "name": "stderr",
     "output_type": "stream",
     "text": [
      "Epoch [105/200]: 100%|████████████████████████████████████████████████████████████████████████████████████████████████████████████████████████████████████████████████████| 2/2 [00:00<00:00, 10.58it/s, acc=0.772, loss=0.715]\n"
     ]
    },
    {
     "name": "stdout",
     "output_type": "stream",
     "text": [
      "Training metrics: Avg loss: 0.733442, Accuracy score: 0.759772565742715\n",
      "Validation Metrics: Avg loss: 0.910318, Accuracy score: 0.6815642458100558, Macro F1 Score: 0.45207538686547877 \n",
      "\n"
     ]
    },
    {
     "name": "stderr",
     "output_type": "stream",
     "text": [
      "Epoch [106/200]: 100%|████████████████████████████████████████████████████████████████████████████████████████████████████████████████████████████████████████████████████| 2/2 [00:00<00:00, 11.13it/s, acc=0.775, loss=0.694]\n"
     ]
    },
    {
     "name": "stdout",
     "output_type": "stream",
     "text": [
      "Training metrics: Avg loss: 0.722731, Accuracy score: 0.7526652452025586\n",
      "Validation Metrics: Avg loss: 0.907923, Accuracy score: 0.6834264432029795, Macro F1 Score: 0.4517237199561477 \n",
      "\n"
     ]
    },
    {
     "name": "stderr",
     "output_type": "stream",
     "text": [
      "Epoch [107/200]: 100%|████████████████████████████████████████████████████████████████████████████████████████████████████████████████████████████████████████████████████| 2/2 [00:00<00:00, 10.75it/s, acc=0.706, loss=0.851]\n"
     ]
    },
    {
     "name": "stdout",
     "output_type": "stream",
     "text": [
      "Training metrics: Avg loss: 0.792616, Accuracy score: 0.7467424780857617\n",
      "Validation Metrics: Avg loss: 0.907652, Accuracy score: 0.6834264432029795, Macro F1 Score: 0.45096508939765756 \n",
      "\n"
     ]
    },
    {
     "name": "stderr",
     "output_type": "stream",
     "text": [
      "Epoch [108/200]: 100%|█████████████████████████████████████████████████████████████████████████████████████████████████████████████████████████████████████████████████████| 2/2 [00:00<00:00, 10.57it/s, acc=0.715, loss=0.82]\n"
     ]
    },
    {
     "name": "stdout",
     "output_type": "stream",
     "text": [
      "Training metrics: Avg loss: 0.784995, Accuracy score: 0.746268656716418\n",
      "Validation Metrics: Avg loss: 0.908851, Accuracy score: 0.6797020484171322, Macro F1 Score: 0.4478393034368128 \n",
      "\n"
     ]
    },
    {
     "name": "stderr",
     "output_type": "stream",
     "text": [
      "Epoch [109/200]: 100%|████████████████████████████████████████████████████████████████████████████████████████████████████████████████████████████████████████████████████| 2/2 [00:00<00:00,  6.09it/s, acc=0.778, loss=0.649]\n"
     ]
    },
    {
     "name": "stdout",
     "output_type": "stream",
     "text": [
      "Training metrics: Avg loss: 0.707429, Accuracy score: 0.7590618336886994\n",
      "Validation Metrics: Avg loss: 0.906613, Accuracy score: 0.6759776536312849, Macro F1 Score: 0.44657856803596796 \n",
      "\n"
     ]
    },
    {
     "name": "stderr",
     "output_type": "stream",
     "text": [
      "Epoch [110/200]: 100%|████████████████████████████████████████████████████████████████████████████████████████████████████████████████████████████████████████████████████| 2/2 [00:00<00:00, 10.14it/s, acc=0.762, loss=0.777]\n"
     ]
    },
    {
     "name": "stdout",
     "output_type": "stream",
     "text": [
      "Training metrics: Avg loss: 0.753154, Accuracy score: 0.7545605306799337\n",
      "Validation Metrics: Avg loss: 0.901314, Accuracy score: 0.6741154562383612, Macro F1 Score: 0.4434653116873361 \n",
      "\n"
     ]
    },
    {
     "name": "stderr",
     "output_type": "stream",
     "text": [
      "Epoch [111/200]: 100%|████████████████████████████████████████████████████████████████████████████████████████████████████████████████████████████████████████████████████| 2/2 [00:00<00:00, 10.09it/s, acc=0.791, loss=0.655]\n"
     ]
    },
    {
     "name": "stdout",
     "output_type": "stream",
     "text": [
      "Training metrics: Avg loss: 0.703126, Accuracy score: 0.7583511016346838\n",
      "Validation Metrics: Avg loss: 0.897262, Accuracy score: 0.6815642458100558, Macro F1 Score: 0.4518488993283891 \n",
      "\n"
     ]
    },
    {
     "name": "stderr",
     "output_type": "stream",
     "text": [
      "Epoch [112/200]: 100%|████████████████████████████████████████████████████████████████████████████████████████████████████████████████████████████████████████████████████| 2/2 [00:00<00:00, 10.98it/s, acc=0.794, loss=0.624]\n"
     ]
    },
    {
     "name": "stdout",
     "output_type": "stream",
     "text": [
      "Training metrics: Avg loss: 0.684109, Accuracy score: 0.7564558161573087\n",
      "Validation Metrics: Avg loss: 0.891408, Accuracy score: 0.6871508379888268, Macro F1 Score: 0.4571393124040828 \n",
      "\n"
     ]
    },
    {
     "name": "stderr",
     "output_type": "stream",
     "text": [
      "Epoch [113/200]: 100%|████████████████████████████████████████████████████████████████████████████████████████████████████████████████████████████████████████████████████| 2/2 [00:00<00:00, 11.12it/s, acc=0.732, loss=0.749]\n"
     ]
    },
    {
     "name": "stdout",
     "output_type": "stream",
     "text": [
      "Training metrics: Avg loss: 0.735993, Accuracy score: 0.7581141909500119\n",
      "Validation Metrics: Avg loss: 0.886954, Accuracy score: 0.6852886405959032, Macro F1 Score: 0.45680041357109946 \n",
      "\n"
     ]
    },
    {
     "name": "stderr",
     "output_type": "stream",
     "text": [
      "Epoch [114/200]: 100%|████████████████████████████████████████████████████████████████████████████████████████████████████████████████████████████████████████████████████| 2/2 [00:00<00:00, 10.92it/s, acc=0.762, loss=0.715]\n"
     ]
    },
    {
     "name": "stdout",
     "output_type": "stream",
     "text": [
      "Training metrics: Avg loss: 0.720257, Accuracy score: 0.7664060649135276\n",
      "Validation Metrics: Avg loss: 0.885625, Accuracy score: 0.6797020484171322, Macro F1 Score: 0.449930243185579 \n",
      "\n"
     ]
    },
    {
     "name": "stderr",
     "output_type": "stream",
     "text": [
      "Epoch [115/200]: 100%|████████████████████████████████████████████████████████████████████████████████████████████████████████████████████████████████████████████████████| 2/2 [00:00<00:00, 10.46it/s, acc=0.698, loss=0.878]\n"
     ]
    },
    {
     "name": "stdout",
     "output_type": "stream",
     "text": [
      "Training metrics: Avg loss: 0.790104, Accuracy score: 0.759772565742715\n",
      "Validation Metrics: Avg loss: 0.886275, Accuracy score: 0.6778398510242085, Macro F1 Score: 0.4491489128327568 \n",
      "\n"
     ]
    },
    {
     "name": "stderr",
     "output_type": "stream",
     "text": [
      "Epoch [116/200]: 100%|█████████████████████████████████████████████████████████████████████████████████████████████████████████████████████████████████████████████████████| 2/2 [00:00<00:00,  9.28it/s, acc=0.81, loss=0.645]\n"
     ]
    },
    {
     "name": "stdout",
     "output_type": "stream",
     "text": [
      "Training metrics: Avg loss: 0.690674, Accuracy score: 0.7619047619047619\n",
      "Validation Metrics: Avg loss: 0.890786, Accuracy score: 0.6778398510242085, Macro F1 Score: 0.4465420296024659 \n",
      "\n"
     ]
    },
    {
     "name": "stderr",
     "output_type": "stream",
     "text": [
      "Epoch [117/200]: 100%|█████████████████████████████████████████████████████████████████████████████████████████████████████████████████████████████████████████████████████| 2/2 [00:00<00:00,  9.56it/s, acc=0.743, loss=0.76]\n"
     ]
    },
    {
     "name": "stdout",
     "output_type": "stream",
     "text": [
      "Training metrics: Avg loss: 0.736056, Accuracy score: 0.765695332859512\n",
      "Validation Metrics: Avg loss: 0.893564, Accuracy score: 0.6778398510242085, Macro F1 Score: 0.44670804862526503 \n",
      "\n"
     ]
    },
    {
     "name": "stderr",
     "output_type": "stream",
     "text": [
      "Epoch [118/200]: 100%|█████████████████████████████████████████████████████████████████████████████████████████████████████████████████████████████████████████████████████| 2/2 [00:00<00:00,  9.58it/s, acc=0.71, loss=0.831]\n"
     ]
    },
    {
     "name": "stdout",
     "output_type": "stream",
     "text": [
      "Training metrics: Avg loss: 0.772229, Accuracy score: 0.7533759772565742\n",
      "Validation Metrics: Avg loss: 0.886416, Accuracy score: 0.6797020484171322, Macro F1 Score: 0.44686221527668263 \n",
      "\n"
     ]
    },
    {
     "name": "stderr",
     "output_type": "stream",
     "text": [
      "Epoch [119/200]: 100%|████████████████████████████████████████████████████████████████████████████████████████████████████████████████████████████████████████████████████| 2/2 [00:00<00:00, 10.23it/s, acc=0.835, loss=0.546]\n"
     ]
    },
    {
     "name": "stdout",
     "output_type": "stream",
     "text": [
      "Training metrics: Avg loss: 0.644358, Accuracy score: 0.7638000473821369\n",
      "Validation Metrics: Avg loss: 0.877290, Accuracy score: 0.6815642458100558, Macro F1 Score: 0.4495688872778857 \n",
      "\n"
     ]
    },
    {
     "name": "stderr",
     "output_type": "stream",
     "text": [
      "Epoch [120/200]: 100%|████████████████████████████████████████████████████████████████████████████████████████████████████████████████████████████████████████████████████| 2/2 [00:00<00:00,  9.52it/s, acc=0.702, loss=0.899]\n"
     ]
    },
    {
     "name": "stdout",
     "output_type": "stream",
     "text": [
      "Training metrics: Avg loss: 0.791461, Accuracy score: 0.7654584221748401\n",
      "Validation Metrics: Avg loss: 0.875937, Accuracy score: 0.6871508379888268, Macro F1 Score: 0.4504934377144467 \n",
      "\n"
     ]
    },
    {
     "name": "stderr",
     "output_type": "stream",
     "text": [
      "Epoch [121/200]: 100%|████████████████████████████████████████████████████████████████████████████████████████████████████████████████████████████████████████████████████| 2/2 [00:00<00:00, 10.03it/s, acc=0.819, loss=0.587]\n"
     ]
    },
    {
     "name": "stdout",
     "output_type": "stream",
     "text": [
      "Training metrics: Avg loss: 0.650235, Accuracy score: 0.7685382610755745\n",
      "Validation Metrics: Avg loss: 0.879267, Accuracy score: 0.6834264432029795, Macro F1 Score: 0.44527210524323807 \n",
      "\n"
     ]
    },
    {
     "name": "stderr",
     "output_type": "stream",
     "text": [
      "Epoch [122/200]: 100%|████████████████████████████████████████████████████████████████████████████████████████████████████████████████████████████████████████████████████| 2/2 [00:00<00:00, 10.23it/s, acc=0.724, loss=0.825]\n"
     ]
    },
    {
     "name": "stdout",
     "output_type": "stream",
     "text": [
      "Training metrics: Avg loss: 0.756736, Accuracy score: 0.7666429755981995\n",
      "Validation Metrics: Avg loss: 0.881266, Accuracy score: 0.6834264432029795, Macro F1 Score: 0.4444431646508241 \n",
      "\n"
     ]
    },
    {
     "name": "stderr",
     "output_type": "stream",
     "text": [
      "Epoch [123/200]: 100%|████████████████████████████████████████████████████████████████████████████████████████████████████████████████████████████████████████████████████| 2/2 [00:00<00:00,  9.62it/s, acc=0.844, loss=0.519]\n"
     ]
    },
    {
     "name": "stdout",
     "output_type": "stream",
     "text": [
      "Training metrics: Avg loss: 0.621075, Accuracy score: 0.7737502961383559\n",
      "Validation Metrics: Avg loss: 0.883307, Accuracy score: 0.6871508379888268, Macro F1 Score: 0.4465661080451312 \n",
      "\n"
     ]
    },
    {
     "name": "stderr",
     "output_type": "stream",
     "text": [
      "Epoch [124/200]: 100%|████████████████████████████████████████████████████████████████████████████████████████████████████████████████████████████████████████████████████| 2/2 [00:00<00:00, 10.24it/s, acc=0.691, loss=0.894]\n"
     ]
    },
    {
     "name": "stdout",
     "output_type": "stream",
     "text": [
      "Training metrics: Avg loss: 0.776991, Accuracy score: 0.7775408670931059\n",
      "Validation Metrics: Avg loss: 0.886421, Accuracy score: 0.6834264432029795, Macro F1 Score: 0.444931152027799 \n",
      "\n"
     ]
    },
    {
     "name": "stderr",
     "output_type": "stream",
     "text": [
      "Epoch [125/200]: 100%|████████████████████████████████████████████████████████████████████████████████████████████████████████████████████████████████████████████████████| 2/2 [00:00<00:00, 10.87it/s, acc=0.762, loss=0.715]"
     ]
    },
    {
     "name": "stdout",
     "output_type": "stream",
     "text": [
      "Training metrics: Avg loss: 0.705821, Accuracy score: 0.773513385453684\n",
      "Validation Metrics: Avg loss: 0.892231, Accuracy score: 0.6741154562383612, Macro F1 Score: 0.4398879847030043 \n",
      "\n",
      "Early stopping at epoch 125\n",
      "Runtime for training: 27865.17071723938 ms\n",
      "Accuracy score (all): 0.6741154562383612\n",
      "Cohen's Kappa Coefficient (all): 0.5764144309822588\n",
      "Matthew's Correlation Coefficient (all): 0.5802041088367044\n",
      "Macro F1-score (all): 0.4398879847030043\n",
      "Precision score (apartments): 0.7336956521739131\n",
      "Recall score (apartments): 0.7803468208092486\n",
      "F1-score (apartments): 0.7563025210084034\n",
      "Precision score (detached): 0.44285714285714284\n",
      "Recall score (detached): 0.7209302325581395\n",
      "F1-score (detached): 0.5486725663716814\n",
      "Precision score (semidetached): 0.0\n",
      "Recall score (semidetached): 0.0\n",
      "F1-score (semidetached): 0.0\n",
      "Precision score (terrace): 0.6774193548387096\n",
      "Recall score (terrace): 0.4883720930232558\n",
      "F1-score (terrace): 0.5675675675675677\n",
      "Precision score (industrial): 0.0\n",
      "Recall score (industrial): 0.0\n",
      "F1-score (industrial): 0.0\n",
      "Precision score (commercial): 0.3137254901960784\n",
      "Recall score (commercial): 0.47058823529411764\n",
      "F1-score (commercial): 0.3764705882352941\n",
      "Precision score (public): 0.32608695652173914\n",
      "Recall score (public): 0.5172413793103449\n",
      "F1-score (public): 0.4\n",
      "Precision score (agricultural): 0.935064935064935\n",
      "Recall score (agricultural): 0.8135593220338984\n",
      "F1-score (agricultural): 0.8700906344410877\n",
      "Accuracy score (res/nonres): 0.8603351955307262\n",
      "Cohen's Kappa Coefficient (res/nonres): 0.7205007737843259\n",
      "Matthew's Correlation Coefficient (res/nonres): 0.7216291266540974\n",
      "Macro F1-score (res/nonres): 0.8601411957537096\n",
      "Precision score (res): 0.8426573426573427\n",
      "Recall score (res): 0.8892988929889298\n",
      "F1-score (res): 0.8653500897666069\n",
      "Precision score (nonres): 0.8804780876494024\n",
      "Recall score (nonres): 0.8308270676691729\n",
      "F1-score (nonres): 0.8549323017408124\n",
      "Accuracy score (res. typology): 0.7597765363128491\n",
      "Cohen's Kappa Coefficient (res. typology): 0.6263914656771798\n",
      "Matthew's Correlation Coefficient (res. typology): 0.6286706638150199\n",
      "Macro F1-score (res. typology): 0.5454949913376929\n"
     ]
    },
    {
     "name": "stderr",
     "output_type": "stream",
     "text": [
      "\n",
      "C:\\Users\\fillj\\anaconda3\\envs\\geo_env\\Lib\\site-packages\\sklearn\\metrics\\_classification.py:1471: UndefinedMetricWarning: Precision is ill-defined and being set to 0.0 in labels with no predicted samples. Use `zero_division` parameter to control this behavior.\n",
      "  _warn_prf(average, modifier, msg_start, len(result))\n"
     ]
    }
   ],
   "source": [
    "torch_geometric.seed_everything(42)\n",
    "path = f'./sample/dataset/pyg_ds'\n",
    "dataset = dsm.GNNDatasetModeling(path, '')\n",
    "dataset_train, dataset_val, dataset_test = sd.split_train_val_test(dataset)\n",
    "dataset_train, dataset_val, dataset_test = sd.mark_overlapping_labels(dataset_train, dataset_val, dataset_test)\n",
    "# For non-GNN-based models, flatten graph\n",
    "if model_type in ['dt', 'rf', 'fcnn']:\n",
    "    x_train, y_train, x_val, y_val, x_test, y_test = ax.preprocessing(dataset_train, dataset_val, dataset_test)\n",
    "# Appropriate train/eval script for tree-based models, FCNN or GNNs\n",
    "if model_type in ['dt', 'rf']:\n",
    "    tetree.train_and_eval_tree(x_train, y_train, x_val, y_val, config, model_name, model_type)\n",
    "elif model_type == 'fcnn':\n",
    "    tefcnn.train_and_eval_fcnn(x_train, y_train, x_val, y_val, config, model_name, model_type)\n",
    "else:\n",
    "    tegnn.train_and_eval_gnn(dataset_train, dataset_val, config, model_name, model_type)"
   ]
  },
  {
   "cell_type": "code",
   "execution_count": null,
   "metadata": {},
   "outputs": [],
   "source": []
  }
 ],
 "metadata": {
  "kernelspec": {
   "display_name": "Python 3 (ipykernel)",
   "language": "python",
   "name": "python3"
  },
  "language_info": {
   "codemirror_mode": {
    "name": "ipython",
    "version": 3
   },
   "file_extension": ".py",
   "mimetype": "text/x-python",
   "name": "python",
   "nbconvert_exporter": "python",
   "pygments_lexer": "ipython3",
   "version": "3.12.0"
  }
 },
 "nbformat": 4,
 "nbformat_minor": 4
}
