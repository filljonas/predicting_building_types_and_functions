{
 "cells": [
  {
   "cell_type": "markdown",
   "metadata": {},
   "source": [
    "# Load OSM, Urban Atlas and CLC class mappings into PostgreSQL"
   ]
  },
  {
   "cell_type": "code",
   "execution_count": 2,
   "metadata": {},
   "outputs": [],
   "source": [
    "import sys\n",
    "sys.path.append('../../')"
   ]
  },
  {
   "cell_type": "code",
   "execution_count": 3,
   "metadata": {
    "ExecuteTime": {
     "end_time": "2024-05-31T06:45:20.963710800Z",
     "start_time": "2024-05-31T06:45:17.170900600Z"
    }
   },
   "outputs": [],
   "source": [
    "import numpy as np\n",
    "import pandas as pd\n",
    "import geopandas as gpd\n",
    "import shapely\n",
    "import momepy\n",
    "import matplotlib.pyplot as plt\n",
    "from sqlalchemy.sql import text\n",
    "\n",
    "import sample.db_interaction as di\n",
    "\n",
    "engine = di.create_sqlalchemy_engine()"
   ]
  },
  {
   "cell_type": "code",
   "execution_count": 2,
   "metadata": {
    "ExecuteTime": {
     "end_time": "2024-05-31T06:45:22.912990200Z",
     "start_time": "2024-05-31T06:45:22.876440900Z"
    },
    "collapsed": false,
    "jupyter": {
     "outputs_hidden": false
    }
   },
   "outputs": [],
   "source": [
    "names = ['osm_type_matches', 'ua_matches', 'clc_matches']\n",
    "for name in names:\n",
    "    table_name = name\n",
    "    path = f'{name}.csv'\n",
    "    csv_file_path = f'{path}'\n",
    "    df = pd.read_csv(csv_file_path, encoding='ISO-8859-1')\n",
    "    df.to_sql(table_name, engine, index=True, if_exists='replace', schema='public')"
   ]
  }
 ],
 "metadata": {
  "kernelspec": {
   "display_name": "Python 3 (ipykernel)",
   "language": "python",
   "name": "python3"
  },
  "language_info": {
   "codemirror_mode": {
    "name": "ipython",
    "version": 3
   },
   "file_extension": ".py",
   "mimetype": "text/x-python",
   "name": "python",
   "nbconvert_exporter": "python",
   "pygments_lexer": "ipython3",
   "version": "3.12.0"
  }
 },
 "nbformat": 4,
 "nbformat_minor": 4
}
